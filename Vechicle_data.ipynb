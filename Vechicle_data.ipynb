{
 "cells": [
  {
   "cell_type": "code",
   "execution_count": 1,
   "metadata": {},
   "outputs": [],
   "source": [
    "# # Car Evaluation Classification:\n",
    "\n",
    "# This dataset focuses on analyzing the type of cars it may be based on features such as Hollows_Ratio and Circularities. \n",
    "# I used the following order of operations to evaluate my data. In the Final Results for this particular dataset we can see that the Logistic Regression Model as the best to use and performs best without using any ensemble approaches.\n",
    "# \n",
    "# 1. Defining Problem: Investigating and characterize the problem in order to better understand the goals of the project.\n",
    "# 2. Analyzing the Data: Using descriptive statistics and visualizations to better understand the data you have available.\n",
    "# 3. Prepare Data: Use data transforms in order to better expose the structure of the prediction problem to modeling algorithms.\n",
    "# 4. Evaluating the Algorithms: Design a test harness to evaluating the number of standard algorithms on the data and selecting the top few to investigate further.\n",
    "# 5. Improve the Results: Use algorithm tuning and ensemble methods to get the most out of well-performing algorithms on your data.\n",
    "# 6. Present Results: Finalize the model, make predictions and present results."
   ]
  },
  {
   "cell_type": "code",
   "execution_count": 2,
   "metadata": {},
   "outputs": [],
   "source": [
    "# importing necessary libraries:\n",
    "import pandas as pd\n",
    "import numpy as np\n",
    "import matplotlib.pyplot as plt\n",
    "%matplotlib inline\n",
    "from sklearn.model_selection import train_test_split\n",
    "from sklearn.model_selection import KFold\n",
    "from sklearn.model_selection import cross_val_score\n",
    "from sklearn.metrics import classification_report\n",
    "from sklearn.metrics import confusion_matrix\n",
    "from sklearn.metrics import accuracy_score\n",
    "from sklearn.ensemble import VotingClassifier\n",
    "from sklearn.linear_model import LogisticRegression\n",
    "from sklearn.tree import DecisionTreeClassifier\n",
    "from sklearn.preprocessing import StandardScaler\n",
    "from sklearn.neighbors import KNeighborsClassifier\n",
    "from sklearn.discriminant_analysis import LinearDiscriminantAnalysis\n",
    "from sklearn.naive_bayes import GaussianNB\n",
    "from sklearn.pipeline import Pipeline\n",
    "from sklearn.pipeline import FeatureUnion\n",
    "from sklearn.linear_model import LogisticRegression\n",
    "from sklearn.decomposition import PCA\n",
    "from sklearn.feature_selection import SelectKBest\n",
    "from sklearn.svm import SVC\n",
    "from matplotlib import pyplot\n",
    "from sklearn.ensemble import AdaBoostClassifier"
   ]
  },
  {
   "cell_type": "code",
   "execution_count": 3,
   "metadata": {},
   "outputs": [],
   "source": [
    "# reading the data into dataframe:\n",
    "df_vehicle = pd.read_csv('/home/dan/Desktop/Data/vehicle.csv')"
   ]
  },
  {
   "cell_type": "markdown",
   "metadata": {},
   "source": [
    "### view the structure of the data for cleaning:"
   ]
  },
  {
   "cell_type": "code",
   "execution_count": 4,
   "metadata": {},
   "outputs": [
    {
     "data": {
      "text/plain": [
       "Index(['COMPACTNESS', 'CIRCULARITY', 'DISTANCE CIRCULARITY', 'RADIUS RATIO',\n",
       "       'PR.AXIS ASPECT RATIO', 'MAX.LENGTH ASPECT RATIO', 'SCATTER RATIO',\n",
       "       'ELONGATEDNESS', 'PR.AXIS RECTANGULARITY', 'MAX.LENGTH RECTANGULARITY',\n",
       "       'SCALED VARIANCE_MAJOR', 'SCALED VARIANCE_MINOR',\n",
       "       'SCALED RADIUS OF GYRATION', 'SKEWNESS ABOUT_MAJOR',\n",
       "       'SKEWNESS ABOUT_MINOR', 'KURTOSIS ABOUT_MAJOR', 'KURTOSIS ABOUT_MINOR',\n",
       "       'HOLLOWS RATIO', 'Class'],\n",
       "      dtype='object')"
      ]
     },
     "execution_count": 4,
     "metadata": {},
     "output_type": "execute_result"
    }
   ],
   "source": [
    "df_vehicle.columns"
   ]
  },
  {
   "cell_type": "code",
   "execution_count": 5,
   "metadata": {},
   "outputs": [
    {
     "name": "stdout",
     "output_type": "stream",
     "text": [
      "<class 'pandas.core.frame.DataFrame'>\n",
      "RangeIndex: 846 entries, 0 to 845\n",
      "Data columns (total 19 columns):\n",
      " #   Column                     Non-Null Count  Dtype  \n",
      "---  ------                     --------------  -----  \n",
      " 0   COMPACTNESS                846 non-null    float64\n",
      " 1   CIRCULARITY                846 non-null    float64\n",
      " 2   DISTANCE CIRCULARITY       846 non-null    float64\n",
      " 3   RADIUS RATIO               846 non-null    float64\n",
      " 4   PR.AXIS ASPECT RATIO       846 non-null    float64\n",
      " 5   MAX.LENGTH ASPECT RATIO    846 non-null    float64\n",
      " 6   SCATTER RATIO              846 non-null    float64\n",
      " 7   ELONGATEDNESS              846 non-null    float64\n",
      " 8   PR.AXIS RECTANGULARITY     846 non-null    float64\n",
      " 9   MAX.LENGTH RECTANGULARITY  846 non-null    float64\n",
      " 10  SCALED VARIANCE_MAJOR      846 non-null    float64\n",
      " 11  SCALED VARIANCE_MINOR      846 non-null    float64\n",
      " 12  SCALED RADIUS OF GYRATION  846 non-null    float64\n",
      " 13  SKEWNESS ABOUT_MAJOR       846 non-null    float64\n",
      " 14  SKEWNESS ABOUT_MINOR       846 non-null    float64\n",
      " 15  KURTOSIS ABOUT_MAJOR       846 non-null    float64\n",
      " 16  KURTOSIS ABOUT_MINOR       846 non-null    float64\n",
      " 17  HOLLOWS RATIO              846 non-null    float64\n",
      " 18  Class                      846 non-null    object \n",
      "dtypes: float64(18), object(1)\n",
      "memory usage: 125.7+ KB\n"
     ]
    }
   ],
   "source": [
    "df_vehicle.info()"
   ]
  },
  {
   "cell_type": "code",
   "execution_count": 6,
   "metadata": {},
   "outputs": [
    {
     "data": {
      "text/html": [
       "<div>\n",
       "<style scoped>\n",
       "    .dataframe tbody tr th:only-of-type {\n",
       "        vertical-align: middle;\n",
       "    }\n",
       "\n",
       "    .dataframe tbody tr th {\n",
       "        vertical-align: top;\n",
       "    }\n",
       "\n",
       "    .dataframe thead th {\n",
       "        text-align: right;\n",
       "    }\n",
       "</style>\n",
       "<table border=\"1\" class=\"dataframe\">\n",
       "  <thead>\n",
       "    <tr style=\"text-align: right;\">\n",
       "      <th></th>\n",
       "      <th>COMPACTNESS</th>\n",
       "      <th>CIRCULARITY</th>\n",
       "      <th>DISTANCE CIRCULARITY</th>\n",
       "      <th>RADIUS RATIO</th>\n",
       "      <th>PR.AXIS ASPECT RATIO</th>\n",
       "      <th>MAX.LENGTH ASPECT RATIO</th>\n",
       "      <th>SCATTER RATIO</th>\n",
       "      <th>ELONGATEDNESS</th>\n",
       "      <th>PR.AXIS RECTANGULARITY</th>\n",
       "      <th>MAX.LENGTH RECTANGULARITY</th>\n",
       "      <th>SCALED VARIANCE_MAJOR</th>\n",
       "      <th>SCALED VARIANCE_MINOR</th>\n",
       "      <th>SCALED RADIUS OF GYRATION</th>\n",
       "      <th>SKEWNESS ABOUT_MAJOR</th>\n",
       "      <th>SKEWNESS ABOUT_MINOR</th>\n",
       "      <th>KURTOSIS ABOUT_MAJOR</th>\n",
       "      <th>KURTOSIS ABOUT_MINOR</th>\n",
       "      <th>HOLLOWS RATIO</th>\n",
       "      <th>Class</th>\n",
       "    </tr>\n",
       "  </thead>\n",
       "  <tbody>\n",
       "    <tr>\n",
       "      <th>0</th>\n",
       "      <td>95.0</td>\n",
       "      <td>48.0</td>\n",
       "      <td>83.0</td>\n",
       "      <td>178.0</td>\n",
       "      <td>72.0</td>\n",
       "      <td>10.0</td>\n",
       "      <td>162.0</td>\n",
       "      <td>42.0</td>\n",
       "      <td>20.0</td>\n",
       "      <td>159.0</td>\n",
       "      <td>176.0</td>\n",
       "      <td>379.0</td>\n",
       "      <td>184.0</td>\n",
       "      <td>70.0</td>\n",
       "      <td>6.0</td>\n",
       "      <td>16.0</td>\n",
       "      <td>187.0</td>\n",
       "      <td>197.0</td>\n",
       "      <td>van</td>\n",
       "    </tr>\n",
       "    <tr>\n",
       "      <th>1</th>\n",
       "      <td>91.0</td>\n",
       "      <td>41.0</td>\n",
       "      <td>84.0</td>\n",
       "      <td>141.0</td>\n",
       "      <td>57.0</td>\n",
       "      <td>9.0</td>\n",
       "      <td>149.0</td>\n",
       "      <td>45.0</td>\n",
       "      <td>19.0</td>\n",
       "      <td>143.0</td>\n",
       "      <td>170.0</td>\n",
       "      <td>330.0</td>\n",
       "      <td>158.0</td>\n",
       "      <td>72.0</td>\n",
       "      <td>9.0</td>\n",
       "      <td>14.0</td>\n",
       "      <td>189.0</td>\n",
       "      <td>199.0</td>\n",
       "      <td>van</td>\n",
       "    </tr>\n",
       "    <tr>\n",
       "      <th>2</th>\n",
       "      <td>104.0</td>\n",
       "      <td>50.0</td>\n",
       "      <td>106.0</td>\n",
       "      <td>209.0</td>\n",
       "      <td>66.0</td>\n",
       "      <td>10.0</td>\n",
       "      <td>207.0</td>\n",
       "      <td>32.0</td>\n",
       "      <td>23.0</td>\n",
       "      <td>158.0</td>\n",
       "      <td>223.0</td>\n",
       "      <td>635.0</td>\n",
       "      <td>220.0</td>\n",
       "      <td>73.0</td>\n",
       "      <td>14.0</td>\n",
       "      <td>9.0</td>\n",
       "      <td>188.0</td>\n",
       "      <td>196.0</td>\n",
       "      <td>saab</td>\n",
       "    </tr>\n",
       "    <tr>\n",
       "      <th>3</th>\n",
       "      <td>93.0</td>\n",
       "      <td>41.0</td>\n",
       "      <td>82.0</td>\n",
       "      <td>159.0</td>\n",
       "      <td>63.0</td>\n",
       "      <td>9.0</td>\n",
       "      <td>144.0</td>\n",
       "      <td>46.0</td>\n",
       "      <td>19.0</td>\n",
       "      <td>143.0</td>\n",
       "      <td>160.0</td>\n",
       "      <td>309.0</td>\n",
       "      <td>127.0</td>\n",
       "      <td>63.0</td>\n",
       "      <td>6.0</td>\n",
       "      <td>10.0</td>\n",
       "      <td>199.0</td>\n",
       "      <td>207.0</td>\n",
       "      <td>van</td>\n",
       "    </tr>\n",
       "    <tr>\n",
       "      <th>4</th>\n",
       "      <td>85.0</td>\n",
       "      <td>44.0</td>\n",
       "      <td>70.0</td>\n",
       "      <td>205.0</td>\n",
       "      <td>103.0</td>\n",
       "      <td>52.0</td>\n",
       "      <td>149.0</td>\n",
       "      <td>45.0</td>\n",
       "      <td>19.0</td>\n",
       "      <td>144.0</td>\n",
       "      <td>241.0</td>\n",
       "      <td>325.0</td>\n",
       "      <td>188.0</td>\n",
       "      <td>127.0</td>\n",
       "      <td>9.0</td>\n",
       "      <td>11.0</td>\n",
       "      <td>180.0</td>\n",
       "      <td>183.0</td>\n",
       "      <td>bus</td>\n",
       "    </tr>\n",
       "  </tbody>\n",
       "</table>\n",
       "</div>"
      ],
      "text/plain": [
       "   COMPACTNESS  CIRCULARITY  DISTANCE CIRCULARITY  RADIUS RATIO  \\\n",
       "0         95.0         48.0                  83.0         178.0   \n",
       "1         91.0         41.0                  84.0         141.0   \n",
       "2        104.0         50.0                 106.0         209.0   \n",
       "3         93.0         41.0                  82.0         159.0   \n",
       "4         85.0         44.0                  70.0         205.0   \n",
       "\n",
       "   PR.AXIS ASPECT RATIO  MAX.LENGTH ASPECT RATIO  SCATTER RATIO  \\\n",
       "0                  72.0                     10.0          162.0   \n",
       "1                  57.0                      9.0          149.0   \n",
       "2                  66.0                     10.0          207.0   \n",
       "3                  63.0                      9.0          144.0   \n",
       "4                 103.0                     52.0          149.0   \n",
       "\n",
       "   ELONGATEDNESS  PR.AXIS RECTANGULARITY  MAX.LENGTH RECTANGULARITY  \\\n",
       "0           42.0                    20.0                      159.0   \n",
       "1           45.0                    19.0                      143.0   \n",
       "2           32.0                    23.0                      158.0   \n",
       "3           46.0                    19.0                      143.0   \n",
       "4           45.0                    19.0                      144.0   \n",
       "\n",
       "   SCALED VARIANCE_MAJOR  SCALED VARIANCE_MINOR  SCALED RADIUS OF GYRATION  \\\n",
       "0                  176.0                  379.0                      184.0   \n",
       "1                  170.0                  330.0                      158.0   \n",
       "2                  223.0                  635.0                      220.0   \n",
       "3                  160.0                  309.0                      127.0   \n",
       "4                  241.0                  325.0                      188.0   \n",
       "\n",
       "   SKEWNESS ABOUT_MAJOR  SKEWNESS ABOUT_MINOR  KURTOSIS ABOUT_MAJOR  \\\n",
       "0                  70.0                   6.0                  16.0   \n",
       "1                  72.0                   9.0                  14.0   \n",
       "2                  73.0                  14.0                   9.0   \n",
       "3                  63.0                   6.0                  10.0   \n",
       "4                 127.0                   9.0                  11.0   \n",
       "\n",
       "   KURTOSIS ABOUT_MINOR  HOLLOWS RATIO Class  \n",
       "0                 187.0          197.0   van  \n",
       "1                 189.0          199.0   van  \n",
       "2                 188.0          196.0  saab  \n",
       "3                 199.0          207.0   van  \n",
       "4                 180.0          183.0   bus  "
      ]
     },
     "execution_count": 6,
     "metadata": {},
     "output_type": "execute_result"
    }
   ],
   "source": [
    "df_vehicle.head()"
   ]
  },
  {
   "cell_type": "code",
   "execution_count": 7,
   "metadata": {},
   "outputs": [
    {
     "data": {
      "text/html": [
       "<div>\n",
       "<style scoped>\n",
       "    .dataframe tbody tr th:only-of-type {\n",
       "        vertical-align: middle;\n",
       "    }\n",
       "\n",
       "    .dataframe tbody tr th {\n",
       "        vertical-align: top;\n",
       "    }\n",
       "\n",
       "    .dataframe thead th {\n",
       "        text-align: right;\n",
       "    }\n",
       "</style>\n",
       "<table border=\"1\" class=\"dataframe\">\n",
       "  <thead>\n",
       "    <tr style=\"text-align: right;\">\n",
       "      <th></th>\n",
       "      <th>COMPACTNESS</th>\n",
       "      <th>CIRCULARITY</th>\n",
       "      <th>DISTANCE CIRCULARITY</th>\n",
       "      <th>RADIUS RATIO</th>\n",
       "      <th>PR.AXIS ASPECT RATIO</th>\n",
       "      <th>MAX.LENGTH ASPECT RATIO</th>\n",
       "      <th>SCATTER RATIO</th>\n",
       "      <th>ELONGATEDNESS</th>\n",
       "      <th>PR.AXIS RECTANGULARITY</th>\n",
       "      <th>MAX.LENGTH RECTANGULARITY</th>\n",
       "      <th>SCALED VARIANCE_MAJOR</th>\n",
       "      <th>SCALED VARIANCE_MINOR</th>\n",
       "      <th>SCALED RADIUS OF GYRATION</th>\n",
       "      <th>SKEWNESS ABOUT_MAJOR</th>\n",
       "      <th>SKEWNESS ABOUT_MINOR</th>\n",
       "      <th>KURTOSIS ABOUT_MAJOR</th>\n",
       "      <th>KURTOSIS ABOUT_MINOR</th>\n",
       "      <th>HOLLOWS RATIO</th>\n",
       "    </tr>\n",
       "  </thead>\n",
       "  <tbody>\n",
       "    <tr>\n",
       "      <th>count</th>\n",
       "      <td>846.000000</td>\n",
       "      <td>846.000000</td>\n",
       "      <td>846.000000</td>\n",
       "      <td>846.000000</td>\n",
       "      <td>846.000000</td>\n",
       "      <td>846.000000</td>\n",
       "      <td>846.000000</td>\n",
       "      <td>846.000000</td>\n",
       "      <td>846.000000</td>\n",
       "      <td>846.000000</td>\n",
       "      <td>846.000000</td>\n",
       "      <td>846.000000</td>\n",
       "      <td>846.00000</td>\n",
       "      <td>846.000000</td>\n",
       "      <td>846.000000</td>\n",
       "      <td>846.000000</td>\n",
       "      <td>846.000000</td>\n",
       "      <td>846.000000</td>\n",
       "    </tr>\n",
       "    <tr>\n",
       "      <th>mean</th>\n",
       "      <td>93.678487</td>\n",
       "      <td>44.861702</td>\n",
       "      <td>82.088652</td>\n",
       "      <td>168.940898</td>\n",
       "      <td>61.693853</td>\n",
       "      <td>8.567376</td>\n",
       "      <td>168.839243</td>\n",
       "      <td>40.933806</td>\n",
       "      <td>20.582742</td>\n",
       "      <td>147.998818</td>\n",
       "      <td>188.625296</td>\n",
       "      <td>439.911348</td>\n",
       "      <td>174.70331</td>\n",
       "      <td>72.462175</td>\n",
       "      <td>6.377069</td>\n",
       "      <td>12.599291</td>\n",
       "      <td>188.932624</td>\n",
       "      <td>195.632388</td>\n",
       "    </tr>\n",
       "    <tr>\n",
       "      <th>std</th>\n",
       "      <td>8.234474</td>\n",
       "      <td>6.169866</td>\n",
       "      <td>15.771533</td>\n",
       "      <td>33.472183</td>\n",
       "      <td>7.888251</td>\n",
       "      <td>4.601217</td>\n",
       "      <td>33.244978</td>\n",
       "      <td>7.811560</td>\n",
       "      <td>2.592138</td>\n",
       "      <td>14.515652</td>\n",
       "      <td>31.394837</td>\n",
       "      <td>176.692614</td>\n",
       "      <td>32.54649</td>\n",
       "      <td>7.486974</td>\n",
       "      <td>4.918353</td>\n",
       "      <td>8.931240</td>\n",
       "      <td>6.163949</td>\n",
       "      <td>7.438797</td>\n",
       "    </tr>\n",
       "    <tr>\n",
       "      <th>min</th>\n",
       "      <td>73.000000</td>\n",
       "      <td>33.000000</td>\n",
       "      <td>40.000000</td>\n",
       "      <td>104.000000</td>\n",
       "      <td>47.000000</td>\n",
       "      <td>2.000000</td>\n",
       "      <td>112.000000</td>\n",
       "      <td>26.000000</td>\n",
       "      <td>17.000000</td>\n",
       "      <td>118.000000</td>\n",
       "      <td>130.000000</td>\n",
       "      <td>184.000000</td>\n",
       "      <td>109.00000</td>\n",
       "      <td>59.000000</td>\n",
       "      <td>0.000000</td>\n",
       "      <td>0.000000</td>\n",
       "      <td>176.000000</td>\n",
       "      <td>181.000000</td>\n",
       "    </tr>\n",
       "    <tr>\n",
       "      <th>25%</th>\n",
       "      <td>87.000000</td>\n",
       "      <td>40.000000</td>\n",
       "      <td>70.000000</td>\n",
       "      <td>141.000000</td>\n",
       "      <td>57.000000</td>\n",
       "      <td>7.000000</td>\n",
       "      <td>146.250000</td>\n",
       "      <td>33.000000</td>\n",
       "      <td>19.000000</td>\n",
       "      <td>137.000000</td>\n",
       "      <td>167.000000</td>\n",
       "      <td>318.250000</td>\n",
       "      <td>149.00000</td>\n",
       "      <td>67.000000</td>\n",
       "      <td>2.000000</td>\n",
       "      <td>5.000000</td>\n",
       "      <td>184.000000</td>\n",
       "      <td>190.250000</td>\n",
       "    </tr>\n",
       "    <tr>\n",
       "      <th>50%</th>\n",
       "      <td>93.000000</td>\n",
       "      <td>44.000000</td>\n",
       "      <td>80.000000</td>\n",
       "      <td>167.000000</td>\n",
       "      <td>61.000000</td>\n",
       "      <td>8.000000</td>\n",
       "      <td>157.000000</td>\n",
       "      <td>43.000000</td>\n",
       "      <td>20.000000</td>\n",
       "      <td>146.000000</td>\n",
       "      <td>178.500000</td>\n",
       "      <td>364.000000</td>\n",
       "      <td>173.00000</td>\n",
       "      <td>71.500000</td>\n",
       "      <td>6.000000</td>\n",
       "      <td>11.000000</td>\n",
       "      <td>188.000000</td>\n",
       "      <td>197.000000</td>\n",
       "    </tr>\n",
       "    <tr>\n",
       "      <th>75%</th>\n",
       "      <td>100.000000</td>\n",
       "      <td>49.000000</td>\n",
       "      <td>98.000000</td>\n",
       "      <td>195.000000</td>\n",
       "      <td>65.000000</td>\n",
       "      <td>10.000000</td>\n",
       "      <td>198.000000</td>\n",
       "      <td>46.000000</td>\n",
       "      <td>23.000000</td>\n",
       "      <td>159.000000</td>\n",
       "      <td>217.000000</td>\n",
       "      <td>587.000000</td>\n",
       "      <td>198.00000</td>\n",
       "      <td>75.000000</td>\n",
       "      <td>9.000000</td>\n",
       "      <td>19.000000</td>\n",
       "      <td>193.000000</td>\n",
       "      <td>201.000000</td>\n",
       "    </tr>\n",
       "    <tr>\n",
       "      <th>max</th>\n",
       "      <td>119.000000</td>\n",
       "      <td>59.000000</td>\n",
       "      <td>112.000000</td>\n",
       "      <td>333.000000</td>\n",
       "      <td>138.000000</td>\n",
       "      <td>55.000000</td>\n",
       "      <td>265.000000</td>\n",
       "      <td>61.000000</td>\n",
       "      <td>29.000000</td>\n",
       "      <td>188.000000</td>\n",
       "      <td>320.000000</td>\n",
       "      <td>1018.000000</td>\n",
       "      <td>268.00000</td>\n",
       "      <td>135.000000</td>\n",
       "      <td>22.000000</td>\n",
       "      <td>41.000000</td>\n",
       "      <td>206.000000</td>\n",
       "      <td>211.000000</td>\n",
       "    </tr>\n",
       "  </tbody>\n",
       "</table>\n",
       "</div>"
      ],
      "text/plain": [
       "       COMPACTNESS  CIRCULARITY  DISTANCE CIRCULARITY  RADIUS RATIO  \\\n",
       "count   846.000000   846.000000            846.000000    846.000000   \n",
       "mean     93.678487    44.861702             82.088652    168.940898   \n",
       "std       8.234474     6.169866             15.771533     33.472183   \n",
       "min      73.000000    33.000000             40.000000    104.000000   \n",
       "25%      87.000000    40.000000             70.000000    141.000000   \n",
       "50%      93.000000    44.000000             80.000000    167.000000   \n",
       "75%     100.000000    49.000000             98.000000    195.000000   \n",
       "max     119.000000    59.000000            112.000000    333.000000   \n",
       "\n",
       "       PR.AXIS ASPECT RATIO  MAX.LENGTH ASPECT RATIO  SCATTER RATIO  \\\n",
       "count            846.000000               846.000000     846.000000   \n",
       "mean              61.693853                 8.567376     168.839243   \n",
       "std                7.888251                 4.601217      33.244978   \n",
       "min               47.000000                 2.000000     112.000000   \n",
       "25%               57.000000                 7.000000     146.250000   \n",
       "50%               61.000000                 8.000000     157.000000   \n",
       "75%               65.000000                10.000000     198.000000   \n",
       "max              138.000000                55.000000     265.000000   \n",
       "\n",
       "       ELONGATEDNESS  PR.AXIS RECTANGULARITY  MAX.LENGTH RECTANGULARITY  \\\n",
       "count     846.000000              846.000000                 846.000000   \n",
       "mean       40.933806               20.582742                 147.998818   \n",
       "std         7.811560                2.592138                  14.515652   \n",
       "min        26.000000               17.000000                 118.000000   \n",
       "25%        33.000000               19.000000                 137.000000   \n",
       "50%        43.000000               20.000000                 146.000000   \n",
       "75%        46.000000               23.000000                 159.000000   \n",
       "max        61.000000               29.000000                 188.000000   \n",
       "\n",
       "       SCALED VARIANCE_MAJOR  SCALED VARIANCE_MINOR  \\\n",
       "count             846.000000             846.000000   \n",
       "mean              188.625296             439.911348   \n",
       "std                31.394837             176.692614   \n",
       "min               130.000000             184.000000   \n",
       "25%               167.000000             318.250000   \n",
       "50%               178.500000             364.000000   \n",
       "75%               217.000000             587.000000   \n",
       "max               320.000000            1018.000000   \n",
       "\n",
       "       SCALED RADIUS OF GYRATION  SKEWNESS ABOUT_MAJOR  SKEWNESS ABOUT_MINOR  \\\n",
       "count                  846.00000            846.000000            846.000000   \n",
       "mean                   174.70331             72.462175              6.377069   \n",
       "std                     32.54649              7.486974              4.918353   \n",
       "min                    109.00000             59.000000              0.000000   \n",
       "25%                    149.00000             67.000000              2.000000   \n",
       "50%                    173.00000             71.500000              6.000000   \n",
       "75%                    198.00000             75.000000              9.000000   \n",
       "max                    268.00000            135.000000             22.000000   \n",
       "\n",
       "       KURTOSIS ABOUT_MAJOR  KURTOSIS ABOUT_MINOR  HOLLOWS RATIO  \n",
       "count            846.000000            846.000000     846.000000  \n",
       "mean              12.599291            188.932624     195.632388  \n",
       "std                8.931240              6.163949       7.438797  \n",
       "min                0.000000            176.000000     181.000000  \n",
       "25%                5.000000            184.000000     190.250000  \n",
       "50%               11.000000            188.000000     197.000000  \n",
       "75%               19.000000            193.000000     201.000000  \n",
       "max               41.000000            206.000000     211.000000  "
      ]
     },
     "execution_count": 7,
     "metadata": {},
     "output_type": "execute_result"
    }
   ],
   "source": [
    "df_vehicle.describe()"
   ]
  },
  {
   "cell_type": "code",
   "execution_count": 8,
   "metadata": {},
   "outputs": [
    {
     "data": {
      "text/plain": [
       "846"
      ]
     },
     "execution_count": 8,
     "metadata": {},
     "output_type": "execute_result"
    }
   ],
   "source": [
    "len(df_vehicle)"
   ]
  },
  {
   "cell_type": "code",
   "execution_count": 9,
   "metadata": {},
   "outputs": [
    {
     "data": {
      "text/plain": [
       "0       95.0\n",
       "1       91.0\n",
       "2      104.0\n",
       "3       93.0\n",
       "4       85.0\n",
       "       ...  \n",
       "841     93.0\n",
       "842     89.0\n",
       "843    106.0\n",
       "844     86.0\n",
       "845     85.0\n",
       "Name: COMPACTNESS, Length: 846, dtype: float64"
      ]
     },
     "execution_count": 9,
     "metadata": {},
     "output_type": "execute_result"
    }
   ],
   "source": [
    "df_vehicle.COMPACTNESS"
   ]
  },
  {
   "cell_type": "code",
   "execution_count": 10,
   "metadata": {},
   "outputs": [
    {
     "name": "stdout",
     "output_type": "stream",
     "text": [
      "<class 'pandas.core.frame.DataFrame'>\n"
     ]
    }
   ],
   "source": [
    "print(type(df_vehicle))"
   ]
  },
  {
   "cell_type": "code",
   "execution_count": 11,
   "metadata": {},
   "outputs": [
    {
     "data": {
      "text/html": [
       "<div>\n",
       "<style scoped>\n",
       "    .dataframe tbody tr th:only-of-type {\n",
       "        vertical-align: middle;\n",
       "    }\n",
       "\n",
       "    .dataframe tbody tr th {\n",
       "        vertical-align: top;\n",
       "    }\n",
       "\n",
       "    .dataframe thead th {\n",
       "        text-align: right;\n",
       "    }\n",
       "</style>\n",
       "<table border=\"1\" class=\"dataframe\">\n",
       "  <thead>\n",
       "    <tr style=\"text-align: right;\">\n",
       "      <th></th>\n",
       "      <th>COMPACTNESS</th>\n",
       "      <th>CIRCULARITY</th>\n",
       "      <th>DISTANCE CIRCULARITY</th>\n",
       "      <th>RADIUS RATIO</th>\n",
       "      <th>PR.AXIS ASPECT RATIO</th>\n",
       "      <th>MAX.LENGTH ASPECT RATIO</th>\n",
       "      <th>SCATTER RATIO</th>\n",
       "      <th>ELONGATEDNESS</th>\n",
       "      <th>PR.AXIS RECTANGULARITY</th>\n",
       "      <th>MAX.LENGTH RECTANGULARITY</th>\n",
       "      <th>SCALED VARIANCE_MAJOR</th>\n",
       "      <th>SCALED VARIANCE_MINOR</th>\n",
       "      <th>SCALED RADIUS OF GYRATION</th>\n",
       "      <th>SKEWNESS ABOUT_MAJOR</th>\n",
       "      <th>SKEWNESS ABOUT_MINOR</th>\n",
       "      <th>KURTOSIS ABOUT_MAJOR</th>\n",
       "      <th>KURTOSIS ABOUT_MINOR</th>\n",
       "      <th>HOLLOWS RATIO</th>\n",
       "      <th>Class</th>\n",
       "    </tr>\n",
       "  </thead>\n",
       "  <tbody>\n",
       "    <tr>\n",
       "      <th>0</th>\n",
       "      <td>95.0</td>\n",
       "      <td>48.0</td>\n",
       "      <td>83.0</td>\n",
       "      <td>178.0</td>\n",
       "      <td>72.0</td>\n",
       "      <td>10.0</td>\n",
       "      <td>162.0</td>\n",
       "      <td>42.0</td>\n",
       "      <td>20.0</td>\n",
       "      <td>159.0</td>\n",
       "      <td>176.0</td>\n",
       "      <td>379.0</td>\n",
       "      <td>184.0</td>\n",
       "      <td>70.0</td>\n",
       "      <td>6.0</td>\n",
       "      <td>16.0</td>\n",
       "      <td>187.0</td>\n",
       "      <td>197.0</td>\n",
       "      <td>van</td>\n",
       "    </tr>\n",
       "    <tr>\n",
       "      <th>1</th>\n",
       "      <td>91.0</td>\n",
       "      <td>41.0</td>\n",
       "      <td>84.0</td>\n",
       "      <td>141.0</td>\n",
       "      <td>57.0</td>\n",
       "      <td>9.0</td>\n",
       "      <td>149.0</td>\n",
       "      <td>45.0</td>\n",
       "      <td>19.0</td>\n",
       "      <td>143.0</td>\n",
       "      <td>170.0</td>\n",
       "      <td>330.0</td>\n",
       "      <td>158.0</td>\n",
       "      <td>72.0</td>\n",
       "      <td>9.0</td>\n",
       "      <td>14.0</td>\n",
       "      <td>189.0</td>\n",
       "      <td>199.0</td>\n",
       "      <td>van</td>\n",
       "    </tr>\n",
       "    <tr>\n",
       "      <th>2</th>\n",
       "      <td>104.0</td>\n",
       "      <td>50.0</td>\n",
       "      <td>106.0</td>\n",
       "      <td>209.0</td>\n",
       "      <td>66.0</td>\n",
       "      <td>10.0</td>\n",
       "      <td>207.0</td>\n",
       "      <td>32.0</td>\n",
       "      <td>23.0</td>\n",
       "      <td>158.0</td>\n",
       "      <td>223.0</td>\n",
       "      <td>635.0</td>\n",
       "      <td>220.0</td>\n",
       "      <td>73.0</td>\n",
       "      <td>14.0</td>\n",
       "      <td>9.0</td>\n",
       "      <td>188.0</td>\n",
       "      <td>196.0</td>\n",
       "      <td>saab</td>\n",
       "    </tr>\n",
       "    <tr>\n",
       "      <th>3</th>\n",
       "      <td>93.0</td>\n",
       "      <td>41.0</td>\n",
       "      <td>82.0</td>\n",
       "      <td>159.0</td>\n",
       "      <td>63.0</td>\n",
       "      <td>9.0</td>\n",
       "      <td>144.0</td>\n",
       "      <td>46.0</td>\n",
       "      <td>19.0</td>\n",
       "      <td>143.0</td>\n",
       "      <td>160.0</td>\n",
       "      <td>309.0</td>\n",
       "      <td>127.0</td>\n",
       "      <td>63.0</td>\n",
       "      <td>6.0</td>\n",
       "      <td>10.0</td>\n",
       "      <td>199.0</td>\n",
       "      <td>207.0</td>\n",
       "      <td>van</td>\n",
       "    </tr>\n",
       "    <tr>\n",
       "      <th>4</th>\n",
       "      <td>85.0</td>\n",
       "      <td>44.0</td>\n",
       "      <td>70.0</td>\n",
       "      <td>205.0</td>\n",
       "      <td>103.0</td>\n",
       "      <td>52.0</td>\n",
       "      <td>149.0</td>\n",
       "      <td>45.0</td>\n",
       "      <td>19.0</td>\n",
       "      <td>144.0</td>\n",
       "      <td>241.0</td>\n",
       "      <td>325.0</td>\n",
       "      <td>188.0</td>\n",
       "      <td>127.0</td>\n",
       "      <td>9.0</td>\n",
       "      <td>11.0</td>\n",
       "      <td>180.0</td>\n",
       "      <td>183.0</td>\n",
       "      <td>bus</td>\n",
       "    </tr>\n",
       "    <tr>\n",
       "      <th>...</th>\n",
       "      <td>...</td>\n",
       "      <td>...</td>\n",
       "      <td>...</td>\n",
       "      <td>...</td>\n",
       "      <td>...</td>\n",
       "      <td>...</td>\n",
       "      <td>...</td>\n",
       "      <td>...</td>\n",
       "      <td>...</td>\n",
       "      <td>...</td>\n",
       "      <td>...</td>\n",
       "      <td>...</td>\n",
       "      <td>...</td>\n",
       "      <td>...</td>\n",
       "      <td>...</td>\n",
       "      <td>...</td>\n",
       "      <td>...</td>\n",
       "      <td>...</td>\n",
       "      <td>...</td>\n",
       "    </tr>\n",
       "    <tr>\n",
       "      <th>841</th>\n",
       "      <td>93.0</td>\n",
       "      <td>39.0</td>\n",
       "      <td>87.0</td>\n",
       "      <td>183.0</td>\n",
       "      <td>64.0</td>\n",
       "      <td>8.0</td>\n",
       "      <td>169.0</td>\n",
       "      <td>40.0</td>\n",
       "      <td>20.0</td>\n",
       "      <td>134.0</td>\n",
       "      <td>200.0</td>\n",
       "      <td>422.0</td>\n",
       "      <td>149.0</td>\n",
       "      <td>72.0</td>\n",
       "      <td>7.0</td>\n",
       "      <td>25.0</td>\n",
       "      <td>188.0</td>\n",
       "      <td>195.0</td>\n",
       "      <td>saab</td>\n",
       "    </tr>\n",
       "    <tr>\n",
       "      <th>842</th>\n",
       "      <td>89.0</td>\n",
       "      <td>46.0</td>\n",
       "      <td>84.0</td>\n",
       "      <td>163.0</td>\n",
       "      <td>66.0</td>\n",
       "      <td>11.0</td>\n",
       "      <td>159.0</td>\n",
       "      <td>43.0</td>\n",
       "      <td>20.0</td>\n",
       "      <td>159.0</td>\n",
       "      <td>173.0</td>\n",
       "      <td>368.0</td>\n",
       "      <td>176.0</td>\n",
       "      <td>72.0</td>\n",
       "      <td>1.0</td>\n",
       "      <td>20.0</td>\n",
       "      <td>186.0</td>\n",
       "      <td>197.0</td>\n",
       "      <td>van</td>\n",
       "    </tr>\n",
       "    <tr>\n",
       "      <th>843</th>\n",
       "      <td>106.0</td>\n",
       "      <td>54.0</td>\n",
       "      <td>101.0</td>\n",
       "      <td>222.0</td>\n",
       "      <td>67.0</td>\n",
       "      <td>12.0</td>\n",
       "      <td>222.0</td>\n",
       "      <td>30.0</td>\n",
       "      <td>25.0</td>\n",
       "      <td>173.0</td>\n",
       "      <td>228.0</td>\n",
       "      <td>721.0</td>\n",
       "      <td>200.0</td>\n",
       "      <td>70.0</td>\n",
       "      <td>3.0</td>\n",
       "      <td>4.0</td>\n",
       "      <td>187.0</td>\n",
       "      <td>201.0</td>\n",
       "      <td>saab</td>\n",
       "    </tr>\n",
       "    <tr>\n",
       "      <th>844</th>\n",
       "      <td>86.0</td>\n",
       "      <td>36.0</td>\n",
       "      <td>78.0</td>\n",
       "      <td>146.0</td>\n",
       "      <td>58.0</td>\n",
       "      <td>7.0</td>\n",
       "      <td>135.0</td>\n",
       "      <td>50.0</td>\n",
       "      <td>18.0</td>\n",
       "      <td>124.0</td>\n",
       "      <td>155.0</td>\n",
       "      <td>270.0</td>\n",
       "      <td>148.0</td>\n",
       "      <td>66.0</td>\n",
       "      <td>0.0</td>\n",
       "      <td>25.0</td>\n",
       "      <td>190.0</td>\n",
       "      <td>195.0</td>\n",
       "      <td>saab</td>\n",
       "    </tr>\n",
       "    <tr>\n",
       "      <th>845</th>\n",
       "      <td>85.0</td>\n",
       "      <td>36.0</td>\n",
       "      <td>66.0</td>\n",
       "      <td>123.0</td>\n",
       "      <td>55.0</td>\n",
       "      <td>5.0</td>\n",
       "      <td>120.0</td>\n",
       "      <td>56.0</td>\n",
       "      <td>17.0</td>\n",
       "      <td>128.0</td>\n",
       "      <td>140.0</td>\n",
       "      <td>212.0</td>\n",
       "      <td>131.0</td>\n",
       "      <td>73.0</td>\n",
       "      <td>1.0</td>\n",
       "      <td>18.0</td>\n",
       "      <td>186.0</td>\n",
       "      <td>190.0</td>\n",
       "      <td>van</td>\n",
       "    </tr>\n",
       "  </tbody>\n",
       "</table>\n",
       "<p>846 rows × 19 columns</p>\n",
       "</div>"
      ],
      "text/plain": [
       "     COMPACTNESS  CIRCULARITY  DISTANCE CIRCULARITY  RADIUS RATIO  \\\n",
       "0           95.0         48.0                  83.0         178.0   \n",
       "1           91.0         41.0                  84.0         141.0   \n",
       "2          104.0         50.0                 106.0         209.0   \n",
       "3           93.0         41.0                  82.0         159.0   \n",
       "4           85.0         44.0                  70.0         205.0   \n",
       "..           ...          ...                   ...           ...   \n",
       "841         93.0         39.0                  87.0         183.0   \n",
       "842         89.0         46.0                  84.0         163.0   \n",
       "843        106.0         54.0                 101.0         222.0   \n",
       "844         86.0         36.0                  78.0         146.0   \n",
       "845         85.0         36.0                  66.0         123.0   \n",
       "\n",
       "     PR.AXIS ASPECT RATIO  MAX.LENGTH ASPECT RATIO  SCATTER RATIO  \\\n",
       "0                    72.0                     10.0          162.0   \n",
       "1                    57.0                      9.0          149.0   \n",
       "2                    66.0                     10.0          207.0   \n",
       "3                    63.0                      9.0          144.0   \n",
       "4                   103.0                     52.0          149.0   \n",
       "..                    ...                      ...            ...   \n",
       "841                  64.0                      8.0          169.0   \n",
       "842                  66.0                     11.0          159.0   \n",
       "843                  67.0                     12.0          222.0   \n",
       "844                  58.0                      7.0          135.0   \n",
       "845                  55.0                      5.0          120.0   \n",
       "\n",
       "     ELONGATEDNESS  PR.AXIS RECTANGULARITY  MAX.LENGTH RECTANGULARITY  \\\n",
       "0             42.0                    20.0                      159.0   \n",
       "1             45.0                    19.0                      143.0   \n",
       "2             32.0                    23.0                      158.0   \n",
       "3             46.0                    19.0                      143.0   \n",
       "4             45.0                    19.0                      144.0   \n",
       "..             ...                     ...                        ...   \n",
       "841           40.0                    20.0                      134.0   \n",
       "842           43.0                    20.0                      159.0   \n",
       "843           30.0                    25.0                      173.0   \n",
       "844           50.0                    18.0                      124.0   \n",
       "845           56.0                    17.0                      128.0   \n",
       "\n",
       "     SCALED VARIANCE_MAJOR  SCALED VARIANCE_MINOR  SCALED RADIUS OF GYRATION  \\\n",
       "0                    176.0                  379.0                      184.0   \n",
       "1                    170.0                  330.0                      158.0   \n",
       "2                    223.0                  635.0                      220.0   \n",
       "3                    160.0                  309.0                      127.0   \n",
       "4                    241.0                  325.0                      188.0   \n",
       "..                     ...                    ...                        ...   \n",
       "841                  200.0                  422.0                      149.0   \n",
       "842                  173.0                  368.0                      176.0   \n",
       "843                  228.0                  721.0                      200.0   \n",
       "844                  155.0                  270.0                      148.0   \n",
       "845                  140.0                  212.0                      131.0   \n",
       "\n",
       "     SKEWNESS ABOUT_MAJOR  SKEWNESS ABOUT_MINOR  KURTOSIS ABOUT_MAJOR  \\\n",
       "0                    70.0                   6.0                  16.0   \n",
       "1                    72.0                   9.0                  14.0   \n",
       "2                    73.0                  14.0                   9.0   \n",
       "3                    63.0                   6.0                  10.0   \n",
       "4                   127.0                   9.0                  11.0   \n",
       "..                    ...                   ...                   ...   \n",
       "841                  72.0                   7.0                  25.0   \n",
       "842                  72.0                   1.0                  20.0   \n",
       "843                  70.0                   3.0                   4.0   \n",
       "844                  66.0                   0.0                  25.0   \n",
       "845                  73.0                   1.0                  18.0   \n",
       "\n",
       "     KURTOSIS ABOUT_MINOR  HOLLOWS RATIO Class  \n",
       "0                   187.0          197.0   van  \n",
       "1                   189.0          199.0   van  \n",
       "2                   188.0          196.0  saab  \n",
       "3                   199.0          207.0   van  \n",
       "4                   180.0          183.0   bus  \n",
       "..                    ...            ...   ...  \n",
       "841                 188.0          195.0  saab  \n",
       "842                 186.0          197.0   van  \n",
       "843                 187.0          201.0  saab  \n",
       "844                 190.0          195.0  saab  \n",
       "845                 186.0          190.0   van  \n",
       "\n",
       "[846 rows x 19 columns]"
      ]
     },
     "execution_count": 11,
     "metadata": {},
     "output_type": "execute_result"
    }
   ],
   "source": [
    "df_vehicle"
   ]
  },
  {
   "cell_type": "code",
   "execution_count": 12,
   "metadata": {},
   "outputs": [
    {
     "data": {
      "text/plain": [
       "(846, 19)"
      ]
     },
     "execution_count": 12,
     "metadata": {},
     "output_type": "execute_result"
    }
   ],
   "source": [
    "df_vehicle.shape"
   ]
  },
  {
   "cell_type": "code",
   "execution_count": 13,
   "metadata": {},
   "outputs": [
    {
     "data": {
      "text/plain": [
       "2"
      ]
     },
     "execution_count": 13,
     "metadata": {},
     "output_type": "execute_result"
    }
   ],
   "source": [
    "df_vehicle.ndim"
   ]
  },
  {
   "cell_type": "code",
   "execution_count": 14,
   "metadata": {},
   "outputs": [
    {
     "data": {
      "text/plain": [
       "count    846.000000\n",
       "mean      61.693853\n",
       "std        7.888251\n",
       "min       47.000000\n",
       "25%       57.000000\n",
       "50%       61.000000\n",
       "75%       65.000000\n",
       "max      138.000000\n",
       "Name: PR.AXIS ASPECT RATIO, dtype: float64"
      ]
     },
     "execution_count": 14,
     "metadata": {},
     "output_type": "execute_result"
    }
   ],
   "source": [
    "df_vehicle['PR.AXIS ASPECT RATIO'].describe()"
   ]
  },
  {
   "cell_type": "markdown",
   "metadata": {},
   "source": [
    "### Renaming the columns in the dataset"
   ]
  },
  {
   "cell_type": "markdown",
   "metadata": {},
   "source": [
    "#### Checking the missing values in the data"
   ]
  },
  {
   "cell_type": "code",
   "execution_count": 15,
   "metadata": {},
   "outputs": [],
   "source": [
    "# importing the missingno library\n",
    "import missingno as msno"
   ]
  },
  {
   "cell_type": "code",
   "execution_count": 16,
   "metadata": {},
   "outputs": [
    {
     "data": {
      "text/plain": [
       "<matplotlib.axes._subplots.AxesSubplot at 0x7faa99b87c90>"
      ]
     },
     "execution_count": 16,
     "metadata": {},
     "output_type": "execute_result"
    },
    {
     "data": {
      "image/png": "[encoded data removed]",
      "text/plain": [
       "<Figure size 1800x720 with 2 Axes>"
      ]
     },
     "metadata": {
      "needs_background": "light"
     },
     "output_type": "display_data"
    }
   ],
   "source": [
    "# visualizing the missing values as matrix:\n",
    "msno.matrix(df_vehicle)"
   ]
  },
  {
   "cell_type": "code",
   "execution_count": 17,
   "metadata": {},
   "outputs": [
    {
     "data": {
      "image/png": "[encoded data removed]",
      "text/plain": [
       "<Figure size 1728x720 with 3 Axes>"
      ]
     },
     "metadata": {
      "needs_background": "light"
     },
     "output_type": "display_data"
    }
   ],
   "source": [
    "# using the Bar:\n",
    "msno.bar(df_vehicle);"
   ]
  },
  {
   "cell_type": "code",
   "execution_count": 18,
   "metadata": {},
   "outputs": [
    {
     "name": "stderr",
     "output_type": "stream",
     "text": [
      "/home/dan/anaconda3/lib/python3.7/site-packages/seaborn/matrix.py:305: UserWarning: Attempting to set identical bottom == top == 0 results in singular transformations; automatically expanding.\n",
      "  ax.set(xlim=(0, self.data.shape[1]), ylim=(0, self.data.shape[0]))\n",
      "/home/dan/anaconda3/lib/python3.7/site-packages/seaborn/matrix.py:305: UserWarning: Attempting to set identical left == right == 0 results in singular transformations; automatically expanding.\n",
      "  ax.set(xlim=(0, self.data.shape[1]), ylim=(0, self.data.shape[0]))\n"
     ]
    },
    {
     "data": {
      "image/png": "[encoded data removed]",
      "text/plain": [
       "<Figure size 1440x864 with 2 Axes>"
      ]
     },
     "metadata": {
      "needs_background": "light"
     },
     "output_type": "display_data"
    }
   ],
   "source": [
    "# using heatmap:\n",
    "msno.heatmap(df_vehicle);"
   ]
  },
  {
   "cell_type": "code",
   "execution_count": 19,
   "metadata": {},
   "outputs": [
    {
     "data": {
      "text/plain": [
       "['COMPACTNESS',\n",
       " 'CIRCULARITY',\n",
       " 'DISTANCE CIRCULARITY',\n",
       " 'RADIUS RATIO',\n",
       " 'PR.AXIS ASPECT RATIO',\n",
       " 'MAX.LENGTH ASPECT RATIO',\n",
       " 'SCATTER RATIO',\n",
       " 'ELONGATEDNESS',\n",
       " 'PR.AXIS RECTANGULARITY',\n",
       " 'MAX.LENGTH RECTANGULARITY',\n",
       " 'SCALED VARIANCE_MAJOR',\n",
       " 'SCALED VARIANCE_MINOR',\n",
       " 'SCALED RADIUS OF GYRATION',\n",
       " 'SKEWNESS ABOUT_MAJOR',\n",
       " 'SKEWNESS ABOUT_MINOR',\n",
       " 'KURTOSIS ABOUT_MAJOR',\n",
       " 'KURTOSIS ABOUT_MINOR',\n",
       " 'HOLLOWS RATIO',\n",
       " 'Class']"
      ]
     },
     "execution_count": 19,
     "metadata": {},
     "output_type": "execute_result"
    }
   ],
   "source": [
    "list(df_vehicle.keys())"
   ]
  },
  {
   "cell_type": "code",
   "execution_count": 20,
   "metadata": {},
   "outputs": [
    {
     "data": {
      "text/plain": [
       "0     van\n",
       "1     van\n",
       "2    saab\n",
       "3     van\n",
       "4     bus\n",
       "Name: Class, dtype: object"
      ]
     },
     "execution_count": 20,
     "metadata": {},
     "output_type": "execute_result"
    }
   ],
   "source": [
    "df_vehicle['Class'].head()"
   ]
  },
  {
   "cell_type": "code",
   "execution_count": 21,
   "metadata": {},
   "outputs": [],
   "source": [
    "# importing the datetime and ast libraries:\n",
    "import datetime as dt\n",
    "import ast"
   ]
  },
  {
   "cell_type": "markdown",
   "metadata": {},
   "source": [
    "#### function to remove any blank space from a string"
   ]
  },
  {
   "cell_type": "code",
   "execution_count": 22,
   "metadata": {},
   "outputs": [],
   "source": [
    "def remove_whitespace(x):\n",
    "    \n",
    "    \"\"\"\n",
    "    A function to remove any blank space from a string\n",
    "    x: a string\n",
    "    \"\"\"\n",
    "    try:\n",
    "        # Remove spaces inside of the string\n",
    "        x = \"\".join(x.split())\n",
    "\n",
    "    except:\n",
    "        pass\n",
    "    return x\n",
    "#to= remove_whitespace(df)\n",
    "#to.OnThyroxine\n",
    "df_vehicle.rename(columns=lambda x: x.replace(\" \", \"_\"), inplace=True)"
   ]
  },
  {
   "cell_type": "code",
   "execution_count": 23,
   "metadata": {},
   "outputs": [
    {
     "data": {
      "text/plain": [
       "Index(['COMPACTNESS', 'CIRCULARITY', 'DISTANCE_CIRCULARITY', 'RADIUS_RATIO',\n",
       "       'PR.AXIS_ASPECT_RATIO', 'MAX.LENGTH_ASPECT_RATIO', 'SCATTER_RATIO',\n",
       "       'ELONGATEDNESS', 'PR.AXIS_RECTANGULARITY', 'MAX.LENGTH_RECTANGULARITY',\n",
       "       'SCALED_VARIANCE_MAJOR', 'SCALED_VARIANCE_MINOR',\n",
       "       'SCALED_RADIUS_OF_GYRATION', 'SKEWNESS_ABOUT_MAJOR',\n",
       "       'SKEWNESS_ABOUT_MINOR', 'KURTOSIS_ABOUT_MAJOR', 'KURTOSIS_ABOUT_MINOR',\n",
       "       'HOLLOWS_RATIO', 'Class'],\n",
       "      dtype='object')"
      ]
     },
     "execution_count": 23,
     "metadata": {},
     "output_type": "execute_result"
    }
   ],
   "source": [
    "df_vehicle.columns"
   ]
  },
  {
   "cell_type": "markdown",
   "metadata": {},
   "source": [
    "#### Understanding the data using visualizations and looking for correlations, and some algorithms may not perform as well if attributes are highly correlated."
   ]
  },
  {
   "cell_type": "code",
   "execution_count": 24,
   "metadata": {},
   "outputs": [
    {
     "data": {
      "text/plain": [
       "<bound method NDFrame.describe of      COMPACTNESS  CIRCULARITY  DISTANCE_CIRCULARITY  RADIUS_RATIO  \\\n",
       "0           95.0         48.0                  83.0         178.0   \n",
       "1           91.0         41.0                  84.0         141.0   \n",
       "2          104.0         50.0                 106.0         209.0   \n",
       "3           93.0         41.0                  82.0         159.0   \n",
       "4           85.0         44.0                  70.0         205.0   \n",
       "..           ...          ...                   ...           ...   \n",
       "841         93.0         39.0                  87.0         183.0   \n",
       "842         89.0         46.0                  84.0         163.0   \n",
       "843        106.0         54.0                 101.0         222.0   \n",
       "844         86.0         36.0                  78.0         146.0   \n",
       "845         85.0         36.0                  66.0         123.0   \n",
       "\n",
       "     PR.AXIS_ASPECT_RATIO  MAX.LENGTH_ASPECT_RATIO  SCATTER_RATIO  \\\n",
       "0                    72.0                     10.0          162.0   \n",
       "1                    57.0                      9.0          149.0   \n",
       "2                    66.0                     10.0          207.0   \n",
       "3                    63.0                      9.0          144.0   \n",
       "4                   103.0                     52.0          149.0   \n",
       "..                    ...                      ...            ...   \n",
       "841                  64.0                      8.0          169.0   \n",
       "842                  66.0                     11.0          159.0   \n",
       "843                  67.0                     12.0          222.0   \n",
       "844                  58.0                      7.0          135.0   \n",
       "845                  55.0                      5.0          120.0   \n",
       "\n",
       "     ELONGATEDNESS  PR.AXIS_RECTANGULARITY  MAX.LENGTH_RECTANGULARITY  \\\n",
       "0             42.0                    20.0                      159.0   \n",
       "1             45.0                    19.0                      143.0   \n",
       "2             32.0                    23.0                      158.0   \n",
       "3             46.0                    19.0                      143.0   \n",
       "4             45.0                    19.0                      144.0   \n",
       "..             ...                     ...                        ...   \n",
       "841           40.0                    20.0                      134.0   \n",
       "842           43.0                    20.0                      159.0   \n",
       "843           30.0                    25.0                      173.0   \n",
       "844           50.0                    18.0                      124.0   \n",
       "845           56.0                    17.0                      128.0   \n",
       "\n",
       "     SCALED_VARIANCE_MAJOR  SCALED_VARIANCE_MINOR  SCALED_RADIUS_OF_GYRATION  \\\n",
       "0                    176.0                  379.0                      184.0   \n",
       "1                    170.0                  330.0                      158.0   \n",
       "2                    223.0                  635.0                      220.0   \n",
       "3                    160.0                  309.0                      127.0   \n",
       "4                    241.0                  325.0                      188.0   \n",
       "..                     ...                    ...                        ...   \n",
       "841                  200.0                  422.0                      149.0   \n",
       "842                  173.0                  368.0                      176.0   \n",
       "843                  228.0                  721.0                      200.0   \n",
       "844                  155.0                  270.0                      148.0   \n",
       "845                  140.0                  212.0                      131.0   \n",
       "\n",
       "     SKEWNESS_ABOUT_MAJOR  SKEWNESS_ABOUT_MINOR  KURTOSIS_ABOUT_MAJOR  \\\n",
       "0                    70.0                   6.0                  16.0   \n",
       "1                    72.0                   9.0                  14.0   \n",
       "2                    73.0                  14.0                   9.0   \n",
       "3                    63.0                   6.0                  10.0   \n",
       "4                   127.0                   9.0                  11.0   \n",
       "..                    ...                   ...                   ...   \n",
       "841                  72.0                   7.0                  25.0   \n",
       "842                  72.0                   1.0                  20.0   \n",
       "843                  70.0                   3.0                   4.0   \n",
       "844                  66.0                   0.0                  25.0   \n",
       "845                  73.0                   1.0                  18.0   \n",
       "\n",
       "     KURTOSIS_ABOUT_MINOR  HOLLOWS_RATIO Class  \n",
       "0                   187.0          197.0   van  \n",
       "1                   189.0          199.0   van  \n",
       "2                   188.0          196.0  saab  \n",
       "3                   199.0          207.0   van  \n",
       "4                   180.0          183.0   bus  \n",
       "..                    ...            ...   ...  \n",
       "841                 188.0          195.0  saab  \n",
       "842                 186.0          197.0   van  \n",
       "843                 187.0          201.0  saab  \n",
       "844                 190.0          195.0  saab  \n",
       "845                 186.0          190.0   van  \n",
       "\n",
       "[846 rows x 19 columns]>"
      ]
     },
     "execution_count": 24,
     "metadata": {},
     "output_type": "execute_result"
    }
   ],
   "source": [
    "df_vehicle.describe"
   ]
  },
  {
   "cell_type": "code",
   "execution_count": 25,
   "metadata": {},
   "outputs": [
    {
     "data": {
      "text/plain": [
       "(846, 19)"
      ]
     },
     "execution_count": 25,
     "metadata": {},
     "output_type": "execute_result"
    }
   ],
   "source": [
    "df_vehicle.shape"
   ]
  },
  {
   "cell_type": "code",
   "execution_count": 26,
   "metadata": {},
   "outputs": [
    {
     "data": {
      "image/png": "[encoded data removed]",
      "text/plain": [
       "<Figure size 432x288 with 20 Axes>"
      ]
     },
     "metadata": {
      "needs_background": "light"
     },
     "output_type": "display_data"
    }
   ],
   "source": [
    "df_vehicle.hist()\n",
    "plt.show()"
   ]
  },
  {
   "cell_type": "code",
   "execution_count": 27,
   "metadata": {},
   "outputs": [
    {
     "name": "stdout",
     "output_type": "stream",
     "text": [
      "                           COMPACTNESS  CIRCULARITY  DISTANCE_CIRCULARITY  \\\n",
      "COMPACTNESS                   1.000000     0.692869              0.792444   \n",
      "CIRCULARITY                   0.692869     1.000000              0.798492   \n",
      "DISTANCE_CIRCULARITY          0.792444     0.798492              1.000000   \n",
      "RADIUS_RATIO                  0.691659     0.622778              0.771644   \n",
      "PR.AXIS_ASPECT_RATIO          0.093222     0.149692              0.161529   \n",
      "MAX.LENGTH_ASPECT_RATIO       0.148249     0.247467              0.264309   \n",
      "SCATTER_RATIO                 0.813003     0.860367              0.907280   \n",
      "ELONGATEDNESS                -0.788647    -0.828755             -0.912307   \n",
      "PR.AXIS_RECTANGULARITY        0.813437     0.857925              0.895326   \n",
      "MAX.LENGTH_RECTANGULARITY     0.676143     0.965776              0.774524   \n",
      "SCALED_VARIANCE_MAJOR         0.764415     0.808496              0.864432   \n",
      "SCALED_VARIANCE_MINOR         0.818632     0.852679              0.889661   \n",
      "SCALED_RADIUS_OF_GYRATION     0.585347     0.936080              0.705818   \n",
      "SKEWNESS_ABOUT_MAJOR         -0.252984     0.058669             -0.231660   \n",
      "SKEWNESS_ABOUT_MINOR          0.233693     0.148433              0.116478   \n",
      "KURTOSIS_ABOUT_MAJOR          0.156779    -0.015482              0.264522   \n",
      "KURTOSIS_ABOUT_MINOR          0.297780    -0.113047              0.147980   \n",
      "HOLLOWS_RATIO                 0.365552     0.038677              0.335453   \n",
      "\n",
      "                           RADIUS_RATIO  PR.AXIS_ASPECT_RATIO  \\\n",
      "COMPACTNESS                    0.691659              0.093222   \n",
      "CIRCULARITY                    0.622778              0.149692   \n",
      "DISTANCE_CIRCULARITY           0.771644              0.161529   \n",
      "RADIUS_RATIO                   1.000000              0.665407   \n",
      "PR.AXIS_ASPECT_RATIO           0.665407              1.000000   \n",
      "MAX.LENGTH_ASPECT_RATIO        0.448048              0.648096   \n",
      "SCATTER_RATIO                  0.738460              0.106064   \n",
      "ELONGATEDNESS                 -0.792557             -0.185086   \n",
      "PR.AXIS_RECTANGULARITY         0.711497              0.079982   \n",
      "MAX.LENGTH_RECTANGULARITY      0.570154              0.129168   \n",
      "SCALED_VARIANCE_MAJOR          0.797588              0.274705   \n",
      "SCALED_VARIANCE_MINOR          0.725781              0.092182   \n",
      "SCALED_RADIUS_OF_GYRATION      0.539069              0.124408   \n",
      "SKEWNESS_ABOUT_MAJOR          -0.182412              0.152304   \n",
      "SKEWNESS_ABOUT_MINOR           0.050534             -0.056807   \n",
      "KURTOSIS_ABOUT_MAJOR           0.174299             -0.034180   \n",
      "KURTOSIS_ABOUT_MINOR           0.380757              0.238195   \n",
      "HOLLOWS_RATIO                  0.469278              0.267381   \n",
      "\n",
      "                           MAX.LENGTH_ASPECT_RATIO  SCATTER_RATIO  \\\n",
      "COMPACTNESS                               0.148249       0.813003   \n",
      "CIRCULARITY                               0.247467       0.860367   \n",
      "DISTANCE_CIRCULARITY                      0.264309       0.907280   \n",
      "RADIUS_RATIO                              0.448048       0.738460   \n",
      "PR.AXIS_ASPECT_RATIO                      0.648096       0.106064   \n",
      "MAX.LENGTH_ASPECT_RATIO                   1.000000       0.166769   \n",
      "SCATTER_RATIO                             0.166769       1.000000   \n",
      "ELONGATEDNESS                            -0.180044      -0.973385   \n",
      "PR.AXIS_RECTANGULARITY                    0.161861       0.992088   \n",
      "MAX.LENGTH_RECTANGULARITY                 0.305943       0.810648   \n",
      "SCALED_VARIANCE_MAJOR                     0.319430       0.951862   \n",
      "SCALED_VARIANCE_MINOR                     0.144606       0.996318   \n",
      "SCALED_RADIUS_OF_GYRATION                 0.189791       0.800932   \n",
      "SKEWNESS_ABOUT_MAJOR                      0.294548      -0.028618   \n",
      "SKEWNESS_ABOUT_MINOR                      0.015218       0.074347   \n",
      "KURTOSIS_ABOUT_MAJOR                      0.043379       0.210706   \n",
      "KURTOSIS_ABOUT_MINOR                     -0.027317       0.004053   \n",
      "HOLLOWS_RATIO                             0.143919       0.119950   \n",
      "\n",
      "                           ELONGATEDNESS  PR.AXIS_RECTANGULARITY  \\\n",
      "COMPACTNESS                    -0.788647                0.813437   \n",
      "CIRCULARITY                    -0.828755                0.857925   \n",
      "DISTANCE_CIRCULARITY           -0.912307                0.895326   \n",
      "RADIUS_RATIO                   -0.792557                0.711497   \n",
      "PR.AXIS_ASPECT_RATIO           -0.185086                0.079982   \n",
      "MAX.LENGTH_ASPECT_RATIO        -0.180044                0.161861   \n",
      "SCATTER_RATIO                  -0.973385                0.992088   \n",
      "ELONGATEDNESS                   1.000000               -0.950512   \n",
      "PR.AXIS_RECTANGULARITY         -0.950512                1.000000   \n",
      "MAX.LENGTH_RECTANGULARITY      -0.775531                0.813305   \n",
      "SCALED_VARIANCE_MAJOR          -0.938392                0.938266   \n",
      "SCALED_VARIANCE_MINOR          -0.956522                0.992346   \n",
      "SCALED_RADIUS_OF_GYRATION      -0.766146                0.798282   \n",
      "SKEWNESS_ABOUT_MAJOR            0.104875               -0.016333   \n",
      "SKEWNESS_ABOUT_MINOR           -0.053346                0.082346   \n",
      "KURTOSIS_ABOUT_MAJOR           -0.185189                0.213088   \n",
      "KURTOSIS_ABOUT_MINOR           -0.112046               -0.022056   \n",
      "HOLLOWS_RATIO                  -0.216725                0.098519   \n",
      "\n",
      "                           MAX.LENGTH_RECTANGULARITY  SCALED_VARIANCE_MAJOR  \\\n",
      "COMPACTNESS                                 0.676143               0.764415   \n",
      "CIRCULARITY                                 0.965776               0.808496   \n",
      "DISTANCE_CIRCULARITY                        0.774524               0.864432   \n",
      "RADIUS_RATIO                                0.570154               0.797588   \n",
      "PR.AXIS_ASPECT_RATIO                        0.129168               0.274705   \n",
      "MAX.LENGTH_ASPECT_RATIO                     0.305943               0.319430   \n",
      "SCATTER_RATIO                               0.810648               0.951862   \n",
      "ELONGATEDNESS                              -0.775531              -0.938392   \n",
      "PR.AXIS_RECTANGULARITY                      0.813305               0.938266   \n",
      "MAX.LENGTH_RECTANGULARITY                   1.000000               0.747152   \n",
      "SCALED_VARIANCE_MAJOR                       0.747152               1.000000   \n",
      "SCALED_VARIANCE_MINOR                       0.798071               0.949888   \n",
      "SCALED_RADIUS_OF_GYRATION                   0.866479               0.780962   \n",
      "SKEWNESS_ABOUT_MAJOR                        0.040339               0.111296   \n",
      "SKEWNESS_ABOUT_MINOR                        0.137473               0.039137   \n",
      "KURTOSIS_ABOUT_MAJOR                        0.001183               0.191948   \n",
      "KURTOSIS_ABOUT_MINOR                       -0.107718               0.011189   \n",
      "HOLLOWS_RATIO                               0.076770               0.085540   \n",
      "\n",
      "                           SCALED_VARIANCE_MINOR  SCALED_RADIUS_OF_GYRATION  \\\n",
      "COMPACTNESS                             0.818632                   0.585347   \n",
      "CIRCULARITY                             0.852679                   0.936080   \n",
      "DISTANCE_CIRCULARITY                    0.889661                   0.705818   \n",
      "RADIUS_RATIO                            0.725781                   0.539069   \n",
      "PR.AXIS_ASPECT_RATIO                    0.092182                   0.124408   \n",
      "MAX.LENGTH_ASPECT_RATIO                 0.144606                   0.189791   \n",
      "SCATTER_RATIO                           0.996318                   0.800932   \n",
      "ELONGATEDNESS                          -0.956522                  -0.766146   \n",
      "PR.AXIS_RECTANGULARITY                  0.992346                   0.798282   \n",
      "MAX.LENGTH_RECTANGULARITY               0.798071                   0.866479   \n",
      "SCALED_VARIANCE_MAJOR                   0.949888                   0.780962   \n",
      "SCALED_VARIANCE_MINOR                   1.000000                   0.797540   \n",
      "SCALED_RADIUS_OF_GYRATION               0.797540                   1.000000   \n",
      "SKEWNESS_ABOUT_MAJOR                   -0.019872                   0.191209   \n",
      "SKEWNESS_ABOUT_MINOR                    0.076435                   0.168003   \n",
      "KURTOSIS_ABOUT_MAJOR                    0.202894                  -0.056218   \n",
      "KURTOSIS_ABOUT_MINOR                    0.005380                  -0.227366   \n",
      "HOLLOWS_RATIO                           0.105432                  -0.117808   \n",
      "\n",
      "                           SKEWNESS_ABOUT_MAJOR  SKEWNESS_ABOUT_MINOR  \\\n",
      "COMPACTNESS                           -0.252984              0.233693   \n",
      "CIRCULARITY                            0.058669              0.148433   \n",
      "DISTANCE_CIRCULARITY                  -0.231660              0.116478   \n",
      "RADIUS_RATIO                          -0.182412              0.050534   \n",
      "PR.AXIS_ASPECT_RATIO                   0.152304             -0.056807   \n",
      "MAX.LENGTH_ASPECT_RATIO                0.294548              0.015218   \n",
      "SCATTER_RATIO                         -0.028618              0.074347   \n",
      "ELONGATEDNESS                          0.104875             -0.053346   \n",
      "PR.AXIS_RECTANGULARITY                -0.016333              0.082346   \n",
      "MAX.LENGTH_RECTANGULARITY              0.040339              0.137473   \n",
      "SCALED_VARIANCE_MAJOR                  0.111296              0.039137   \n",
      "SCALED_VARIANCE_MINOR                 -0.019872              0.076435   \n",
      "SCALED_RADIUS_OF_GYRATION              0.191209              0.168003   \n",
      "SKEWNESS_ABOUT_MAJOR                   1.000000             -0.092539   \n",
      "SKEWNESS_ABOUT_MINOR                  -0.092539              1.000000   \n",
      "KURTOSIS_ABOUT_MAJOR                  -0.126157             -0.039365   \n",
      "KURTOSIS_ABOUT_MINOR                  -0.754142              0.116932   \n",
      "HOLLOWS_RATIO                         -0.805399              0.099149   \n",
      "\n",
      "                           KURTOSIS_ABOUT_MAJOR  KURTOSIS_ABOUT_MINOR  \\\n",
      "COMPACTNESS                            0.156779              0.297780   \n",
      "CIRCULARITY                           -0.015482             -0.113047   \n",
      "DISTANCE_CIRCULARITY                   0.264522              0.147980   \n",
      "RADIUS_RATIO                           0.174299              0.380757   \n",
      "PR.AXIS_ASPECT_RATIO                  -0.034180              0.238195   \n",
      "MAX.LENGTH_ASPECT_RATIO                0.043379             -0.027317   \n",
      "SCATTER_RATIO                          0.210706              0.004053   \n",
      "ELONGATEDNESS                         -0.185189             -0.112046   \n",
      "PR.AXIS_RECTANGULARITY                 0.213088             -0.022056   \n",
      "MAX.LENGTH_RECTANGULARITY              0.001183             -0.107718   \n",
      "SCALED_VARIANCE_MAJOR                  0.191948              0.011189   \n",
      "SCALED_VARIANCE_MINOR                  0.202894              0.005380   \n",
      "SCALED_RADIUS_OF_GYRATION             -0.056218             -0.227366   \n",
      "SKEWNESS_ABOUT_MAJOR                  -0.126157             -0.754142   \n",
      "SKEWNESS_ABOUT_MINOR                  -0.039365              0.116932   \n",
      "KURTOSIS_ABOUT_MAJOR                   1.000000              0.079090   \n",
      "KURTOSIS_ABOUT_MINOR                   0.079090              1.000000   \n",
      "HOLLOWS_RATIO                          0.204924              0.894098   \n",
      "\n",
      "                           HOLLOWS_RATIO  \n",
      "COMPACTNESS                     0.365552  \n",
      "CIRCULARITY                     0.038677  \n",
      "DISTANCE_CIRCULARITY            0.335453  \n",
      "RADIUS_RATIO                    0.469278  \n",
      "PR.AXIS_ASPECT_RATIO            0.267381  \n",
      "MAX.LENGTH_ASPECT_RATIO         0.143919  \n",
      "SCATTER_RATIO                   0.119950  \n",
      "ELONGATEDNESS                  -0.216725  \n",
      "PR.AXIS_RECTANGULARITY          0.098519  \n",
      "MAX.LENGTH_RECTANGULARITY       0.076770  \n",
      "SCALED_VARIANCE_MAJOR           0.085540  \n",
      "SCALED_VARIANCE_MINOR           0.105432  \n",
      "SCALED_RADIUS_OF_GYRATION      -0.117808  \n",
      "SKEWNESS_ABOUT_MAJOR           -0.805399  \n",
      "SKEWNESS_ABOUT_MINOR            0.099149  \n",
      "KURTOSIS_ABOUT_MAJOR            0.204924  \n",
      "KURTOSIS_ABOUT_MINOR            0.894098  \n",
      "HOLLOWS_RATIO                   1.000000  \n"
     ]
    }
   ],
   "source": [
    "correlations = df_vehicle.corr(method='pearson')\n",
    "print(correlations)"
   ]
  },
  {
   "cell_type": "code",
   "execution_count": 28,
   "metadata": {},
   "outputs": [
    {
     "name": "stdout",
     "output_type": "stream",
     "text": [
      "COMPACTNESS                  0.381271\n",
      "CIRCULARITY                  0.262799\n",
      "DISTANCE_CIRCULARITY         0.107221\n",
      "RADIUS_RATIO                 0.390706\n",
      "PR.AXIS_ASPECT_RATIO         3.821560\n",
      "MAX.LENGTH_ASPECT_RATIO      6.778394\n",
      "SCATTER_RATIO                0.605779\n",
      "ELONGATEDNESS                0.047845\n",
      "PR.AXIS_RECTANGULARITY       0.770684\n",
      "MAX.LENGTH_RECTANGULARITY    0.256359\n",
      "SCALED_VARIANCE_MAJOR        0.651814\n",
      "SCALED_VARIANCE_MINOR        0.835837\n",
      "SCALED_RADIUS_OF_GYRATION    0.280231\n",
      "SKEWNESS_ABOUT_MAJOR         2.072583\n",
      "SKEWNESS_ABOUT_MINOR         0.773792\n",
      "KURTOSIS_ABOUT_MAJOR         0.689325\n",
      "KURTOSIS_ABOUT_MINOR         0.248541\n",
      "HOLLOWS_RATIO               -0.226341\n",
      "dtype: float64\n"
     ]
    }
   ],
   "source": [
    "skew = df_vehicle.skew()\n",
    "print(skew)"
   ]
  },
  {
   "cell_type": "code",
   "execution_count": 29,
   "metadata": {},
   "outputs": [
    {
     "data": {
      "image/png": "[encoded data removed]",
      "text/plain": [
       "<Figure size 432x288 with 2 Axes>"
      ]
     },
     "metadata": {
      "needs_background": "light"
     },
     "output_type": "display_data"
    }
   ],
   "source": [
    "# ploting subplot of the data:\n",
    "fig = pyplot.figure()\n",
    "ax = fig.add_subplot(111)\n",
    "cax = ax.matshow(correlations, vmin=-1, vmax=1)\n",
    "fig.colorbar(cax)\n",
    "pyplot.show()"
   ]
  },
  {
   "cell_type": "code",
   "execution_count": 30,
   "metadata": {},
   "outputs": [],
   "source": [
    "array = df_vehicle.values\n",
    "X = array[:,0:18]\n",
    "Y = array[:,18]\n",
    "validation_size = 0.20\n",
    "num_folds = 10\n",
    "seed = 7\n",
    "X_train, X_validation, Y_train, Y_validation = train_test_split(X, Y,\n",
    "test_size=validation_size, random_state=seed)"
   ]
  },
  {
   "cell_type": "markdown",
   "metadata": {},
   "source": [
    "#### checking multiple Algorithms to which on perform better"
   ]
  },
  {
   "cell_type": "code",
   "execution_count": 31,
   "metadata": {},
   "outputs": [],
   "source": [
    "# using the following model to check:\n",
    "models = []\n",
    "models.append(('LR', LogisticRegression()))\n",
    "models.append(('LDA', LinearDiscriminantAnalysis()))\n",
    "models.append(('KNN', KNeighborsClassifier()))\n",
    "models.append(('CART', DecisionTreeClassifier()))\n",
    "models.append(('NB', GaussianNB()))\n",
    "models.append(('SVM', SVC()))"
   ]
  },
  {
   "cell_type": "code",
   "execution_count": 32,
   "metadata": {},
   "outputs": [
    {
     "name": "stderr",
     "output_type": "stream",
     "text": [
      "/home/dan/anaconda3/lib/python3.7/site-packages/sklearn/model_selection/_split.py:297: FutureWarning: Setting a random_state has no effect since shuffle is False. This will raise an error in 0.24. You should leave random_state to its default (None), or set shuffle=True.\n",
      "  FutureWarning\n",
      "/home/dan/anaconda3/lib/python3.7/site-packages/sklearn/linear_model/_logistic.py:764: ConvergenceWarning: lbfgs failed to converge (status=1):\n",
      "STOP: TOTAL NO. of ITERATIONS REACHED LIMIT.\n",
      "\n",
      "Increase the number of iterations (max_iter) or scale the data as shown in:\n",
      "    https://scikit-learn.org/stable/modules/preprocessing.html\n",
      "Please also refer to the documentation for alternative solver options:\n",
      "    https://scikit-learn.org/stable/modules/linear_model.html#logistic-regression\n",
      "  extra_warning_msg=_LOGISTIC_SOLVER_CONVERGENCE_MSG)\n",
      "/home/dan/anaconda3/lib/python3.7/site-packages/sklearn/linear_model/_logistic.py:764: ConvergenceWarning: lbfgs failed to converge (status=1):\n",
      "STOP: TOTAL NO. of ITERATIONS REACHED LIMIT.\n",
      "\n",
      "Increase the number of iterations (max_iter) or scale the data as shown in:\n",
      "    https://scikit-learn.org/stable/modules/preprocessing.html\n",
      "Please also refer to the documentation for alternative solver options:\n",
      "    https://scikit-learn.org/stable/modules/linear_model.html#logistic-regression\n",
      "  extra_warning_msg=_LOGISTIC_SOLVER_CONVERGENCE_MSG)\n",
      "/home/dan/anaconda3/lib/python3.7/site-packages/sklearn/linear_model/_logistic.py:764: ConvergenceWarning: lbfgs failed to converge (status=1):\n",
      "STOP: TOTAL NO. of ITERATIONS REACHED LIMIT.\n",
      "\n",
      "Increase the number of iterations (max_iter) or scale the data as shown in:\n",
      "    https://scikit-learn.org/stable/modules/preprocessing.html\n",
      "Please also refer to the documentation for alternative solver options:\n",
      "    https://scikit-learn.org/stable/modules/linear_model.html#logistic-regression\n",
      "  extra_warning_msg=_LOGISTIC_SOLVER_CONVERGENCE_MSG)\n",
      "/home/dan/anaconda3/lib/python3.7/site-packages/sklearn/linear_model/_logistic.py:764: ConvergenceWarning: lbfgs failed to converge (status=1):\n",
      "STOP: TOTAL NO. of ITERATIONS REACHED LIMIT.\n",
      "\n",
      "Increase the number of iterations (max_iter) or scale the data as shown in:\n",
      "    https://scikit-learn.org/stable/modules/preprocessing.html\n",
      "Please also refer to the documentation for alternative solver options:\n",
      "    https://scikit-learn.org/stable/modules/linear_model.html#logistic-regression\n",
      "  extra_warning_msg=_LOGISTIC_SOLVER_CONVERGENCE_MSG)\n",
      "/home/dan/anaconda3/lib/python3.7/site-packages/sklearn/linear_model/_logistic.py:764: ConvergenceWarning: lbfgs failed to converge (status=1):\n",
      "STOP: TOTAL NO. of ITERATIONS REACHED LIMIT.\n",
      "\n",
      "Increase the number of iterations (max_iter) or scale the data as shown in:\n",
      "    https://scikit-learn.org/stable/modules/preprocessing.html\n",
      "Please also refer to the documentation for alternative solver options:\n",
      "    https://scikit-learn.org/stable/modules/linear_model.html#logistic-regression\n",
      "  extra_warning_msg=_LOGISTIC_SOLVER_CONVERGENCE_MSG)\n"
     ]
    },
    {
     "name": "stdout",
     "output_type": "stream",
     "text": [
      "LR: 0.717429 (0.016898)\n",
      "Accuracy on  validation set:\n",
      "0.7529411764705882\n",
      "              precision    recall  f1-score   support\n",
      "\n",
      "         bus       0.78      0.95      0.86        42\n",
      "        opel       0.64      0.58      0.61        43\n",
      "        saab       0.63      0.57      0.60        42\n",
      "         van       0.93      0.91      0.92        43\n",
      "\n",
      "    accuracy                           0.75       170\n",
      "   macro avg       0.75      0.75      0.75       170\n",
      "weighted avg       0.75      0.75      0.75       170\n",
      "\n",
      "LDA: 0.775153 (0.018435)\n",
      "Accuracy on  validation set:\n",
      "0.7705882352941177\n",
      "              precision    recall  f1-score   support\n",
      "\n",
      "         bus       0.84      0.98      0.90        42\n",
      "        opel       0.69      0.51      0.59        43\n",
      "        saab       0.60      0.62      0.61        42\n",
      "         van       0.91      0.98      0.94        43\n",
      "\n",
      "    accuracy                           0.77       170\n",
      "   macro avg       0.76      0.77      0.76       170\n",
      "weighted avg       0.76      0.77      0.76       170\n",
      "\n"
     ]
    },
    {
     "name": "stderr",
     "output_type": "stream",
     "text": [
      "/home/dan/anaconda3/lib/python3.7/site-packages/sklearn/linear_model/_logistic.py:764: ConvergenceWarning: lbfgs failed to converge (status=1):\n",
      "STOP: TOTAL NO. of ITERATIONS REACHED LIMIT.\n",
      "\n",
      "Increase the number of iterations (max_iter) or scale the data as shown in:\n",
      "    https://scikit-learn.org/stable/modules/preprocessing.html\n",
      "Please also refer to the documentation for alternative solver options:\n",
      "    https://scikit-learn.org/stable/modules/linear_model.html#logistic-regression\n",
      "  extra_warning_msg=_LOGISTIC_SOLVER_CONVERGENCE_MSG)\n",
      "/home/dan/anaconda3/lib/python3.7/site-packages/sklearn/model_selection/_split.py:297: FutureWarning: Setting a random_state has no effect since shuffle is False. This will raise an error in 0.24. You should leave random_state to its default (None), or set shuffle=True.\n",
      "  FutureWarning\n",
      "/home/dan/anaconda3/lib/python3.7/site-packages/sklearn/model_selection/_split.py:297: FutureWarning: Setting a random_state has no effect since shuffle is False. This will raise an error in 0.24. You should leave random_state to its default (None), or set shuffle=True.\n",
      "  FutureWarning\n",
      "/home/dan/anaconda3/lib/python3.7/site-packages/sklearn/model_selection/_split.py:297: FutureWarning: Setting a random_state has no effect since shuffle is False. This will raise an error in 0.24. You should leave random_state to its default (None), or set shuffle=True.\n",
      "  FutureWarning\n"
     ]
    },
    {
     "name": "stdout",
     "output_type": "stream",
     "text": [
      "KNN: 0.621362 (0.026101)\n",
      "Accuracy on  validation set:\n",
      "0.6941176470588235\n",
      "              precision    recall  f1-score   support\n",
      "\n",
      "         bus       0.90      0.86      0.88        42\n",
      "        opel       0.58      0.44      0.50        43\n",
      "        saab       0.46      0.52      0.49        42\n",
      "         van       0.84      0.95      0.89        43\n",
      "\n",
      "    accuracy                           0.69       170\n",
      "   macro avg       0.69      0.69      0.69       170\n",
      "weighted avg       0.69      0.69      0.69       170\n",
      "\n",
      "CART: 0.692222 (0.040982)\n",
      "Accuracy on  validation set:\n",
      "0.7235294117647059\n",
      "              precision    recall  f1-score   support\n",
      "\n",
      "         bus       0.87      0.95      0.91        42\n",
      "        opel       0.55      0.51      0.53        43\n",
      "        saab       0.56      0.55      0.55        42\n",
      "         van       0.88      0.88      0.88        43\n",
      "\n",
      "    accuracy                           0.72       170\n",
      "   macro avg       0.72      0.72      0.72       170\n",
      "weighted avg       0.72      0.72      0.72       170\n",
      "\n",
      "NB: 0.434967 (0.027062)\n",
      "Accuracy on  validation set:\n",
      "0.4764705882352941\n",
      "              precision    recall  f1-score   support\n",
      "\n",
      "         bus       0.70      0.17      0.27        42\n",
      "        opel       0.79      0.35      0.48        43\n",
      "        saab       0.47      0.60      0.53        42\n",
      "         van       0.39      0.79      0.52        43\n",
      "\n",
      "    accuracy                           0.48       170\n",
      "   macro avg       0.59      0.48      0.45       170\n",
      "weighted avg       0.59      0.48      0.45       170\n",
      "\n"
     ]
    },
    {
     "name": "stderr",
     "output_type": "stream",
     "text": [
      "/home/dan/anaconda3/lib/python3.7/site-packages/sklearn/model_selection/_split.py:297: FutureWarning: Setting a random_state has no effect since shuffle is False. This will raise an error in 0.24. You should leave random_state to its default (None), or set shuffle=True.\n",
      "  FutureWarning\n",
      "/home/dan/anaconda3/lib/python3.7/site-packages/sklearn/model_selection/_split.py:297: FutureWarning: Setting a random_state has no effect since shuffle is False. This will raise an error in 0.24. You should leave random_state to its default (None), or set shuffle=True.\n",
      "  FutureWarning\n"
     ]
    },
    {
     "name": "stdout",
     "output_type": "stream",
     "text": [
      "SVM: 0.461612 (0.036077)\n",
      "Accuracy on  validation set:\n",
      "0.49411764705882355\n",
      "              precision    recall  f1-score   support\n",
      "\n",
      "         bus       0.47      0.81      0.60        42\n",
      "        opel       0.64      0.33      0.43        43\n",
      "        saab       0.37      0.31      0.34        42\n",
      "         van       0.56      0.53      0.55        43\n",
      "\n",
      "    accuracy                           0.49       170\n",
      "   macro avg       0.51      0.49      0.48       170\n",
      "weighted avg       0.51      0.49      0.48       170\n",
      "\n"
     ]
    }
   ],
   "source": [
    "# evaluating each model in turn:\n",
    "results = []\n",
    "names = []\n",
    "for name, model in models:\n",
    "    kfold = KFold(n_splits=5, random_state=seed)\n",
    "    cv_results = cross_val_score(model, X_train, Y_train, cv=kfold, scoring='accuracy')\n",
    "    results.append(cv_results)\n",
    "    names.append(name)\n",
    "    \n",
    "    msg = \"%s: %f (%f)\" % (name, cv_results.mean(), cv_results.std())\n",
    "    print(msg)\n",
    "    model.fit(X_train,Y_train)\n",
    "    predictions = model.predict(X_validation)\n",
    "    print(\"Accuracy on  validation set:\")\n",
    "    print(accuracy_score(Y_validation, predictions))\n",
    "    \n",
    "#print(confusion_matrix(Y_validation, predictions))\n",
    "    print(classification_report(Y_validation, predictions))"
   ]
  },
  {
   "cell_type": "code",
   "execution_count": 33,
   "metadata": {},
   "outputs": [
    {
     "data": {
      "image/png": "[encoded data removed]",
      "text/plain": [
       "<Figure size 432x288 with 1 Axes>"
      ]
     },
     "metadata": {
      "needs_background": "light"
     },
     "output_type": "display_data"
    }
   ],
   "source": [
    "# plotting the Algorthmns comparison:\n",
    "fig = pyplot.figure()\n",
    "fig.suptitle('Algorithm Comparison')\n",
    "ax = fig.add_subplot(111)\n",
    "pyplot.boxplot(results)\n",
    "ax.set_xticklabels(names)\n",
    "pyplot.show()"
   ]
  },
  {
   "cell_type": "markdown",
   "metadata": {},
   "source": [
    "#### Standardizing data to see if results may change\n",
    "We can see that logistic regression and LDA are still the best performing algorithms"
   ]
  },
  {
   "cell_type": "code",
   "execution_count": 34,
   "metadata": {},
   "outputs": [
    {
     "name": "stderr",
     "output_type": "stream",
     "text": [
      "/home/dan/anaconda3/lib/python3.7/site-packages/sklearn/model_selection/_split.py:297: FutureWarning: Setting a random_state has no effect since shuffle is False. This will raise an error in 0.24. You should leave random_state to its default (None), or set shuffle=True.\n",
      "  FutureWarning\n",
      "/home/dan/anaconda3/lib/python3.7/site-packages/sklearn/linear_model/_logistic.py:764: ConvergenceWarning: lbfgs failed to converge (status=1):\n",
      "STOP: TOTAL NO. of ITERATIONS REACHED LIMIT.\n",
      "\n",
      "Increase the number of iterations (max_iter) or scale the data as shown in:\n",
      "    https://scikit-learn.org/stable/modules/preprocessing.html\n",
      "Please also refer to the documentation for alternative solver options:\n",
      "    https://scikit-learn.org/stable/modules/linear_model.html#logistic-regression\n",
      "  extra_warning_msg=_LOGISTIC_SOLVER_CONVERGENCE_MSG)\n",
      "/home/dan/anaconda3/lib/python3.7/site-packages/sklearn/linear_model/_logistic.py:764: ConvergenceWarning: lbfgs failed to converge (status=1):\n",
      "STOP: TOTAL NO. of ITERATIONS REACHED LIMIT.\n",
      "\n",
      "Increase the number of iterations (max_iter) or scale the data as shown in:\n",
      "    https://scikit-learn.org/stable/modules/preprocessing.html\n",
      "Please also refer to the documentation for alternative solver options:\n",
      "    https://scikit-learn.org/stable/modules/linear_model.html#logistic-regression\n",
      "  extra_warning_msg=_LOGISTIC_SOLVER_CONVERGENCE_MSG)\n",
      "/home/dan/anaconda3/lib/python3.7/site-packages/sklearn/linear_model/_logistic.py:764: ConvergenceWarning: lbfgs failed to converge (status=1):\n",
      "STOP: TOTAL NO. of ITERATIONS REACHED LIMIT.\n",
      "\n",
      "Increase the number of iterations (max_iter) or scale the data as shown in:\n",
      "    https://scikit-learn.org/stable/modules/preprocessing.html\n",
      "Please also refer to the documentation for alternative solver options:\n",
      "    https://scikit-learn.org/stable/modules/linear_model.html#logistic-regression\n",
      "  extra_warning_msg=_LOGISTIC_SOLVER_CONVERGENCE_MSG)\n",
      "/home/dan/anaconda3/lib/python3.7/site-packages/sklearn/linear_model/_logistic.py:764: ConvergenceWarning: lbfgs failed to converge (status=1):\n",
      "STOP: TOTAL NO. of ITERATIONS REACHED LIMIT.\n",
      "\n",
      "Increase the number of iterations (max_iter) or scale the data as shown in:\n",
      "    https://scikit-learn.org/stable/modules/preprocessing.html\n",
      "Please also refer to the documentation for alternative solver options:\n",
      "    https://scikit-learn.org/stable/modules/linear_model.html#logistic-regression\n",
      "  extra_warning_msg=_LOGISTIC_SOLVER_CONVERGENCE_MSG)\n",
      "/home/dan/anaconda3/lib/python3.7/site-packages/sklearn/linear_model/_logistic.py:764: ConvergenceWarning: lbfgs failed to converge (status=1):\n",
      "STOP: TOTAL NO. of ITERATIONS REACHED LIMIT.\n",
      "\n",
      "Increase the number of iterations (max_iter) or scale the data as shown in:\n",
      "    https://scikit-learn.org/stable/modules/preprocessing.html\n",
      "Please also refer to the documentation for alternative solver options:\n",
      "    https://scikit-learn.org/stable/modules/linear_model.html#logistic-regression\n",
      "  extra_warning_msg=_LOGISTIC_SOLVER_CONVERGENCE_MSG)\n",
      "/home/dan/anaconda3/lib/python3.7/site-packages/sklearn/linear_model/_logistic.py:764: ConvergenceWarning: lbfgs failed to converge (status=1):\n",
      "STOP: TOTAL NO. of ITERATIONS REACHED LIMIT.\n",
      "\n",
      "Increase the number of iterations (max_iter) or scale the data as shown in:\n",
      "    https://scikit-learn.org/stable/modules/preprocessing.html\n",
      "Please also refer to the documentation for alternative solver options:\n",
      "    https://scikit-learn.org/stable/modules/linear_model.html#logistic-regression\n",
      "  extra_warning_msg=_LOGISTIC_SOLVER_CONVERGENCE_MSG)\n",
      "/home/dan/anaconda3/lib/python3.7/site-packages/sklearn/linear_model/_logistic.py:764: ConvergenceWarning: lbfgs failed to converge (status=1):\n",
      "STOP: TOTAL NO. of ITERATIONS REACHED LIMIT.\n",
      "\n",
      "Increase the number of iterations (max_iter) or scale the data as shown in:\n",
      "    https://scikit-learn.org/stable/modules/preprocessing.html\n",
      "Please also refer to the documentation for alternative solver options:\n",
      "    https://scikit-learn.org/stable/modules/linear_model.html#logistic-regression\n",
      "  extra_warning_msg=_LOGISTIC_SOLVER_CONVERGENCE_MSG)\n",
      "/home/dan/anaconda3/lib/python3.7/site-packages/sklearn/model_selection/_split.py:297: FutureWarning: Setting a random_state has no effect since shuffle is False. This will raise an error in 0.24. You should leave random_state to its default (None), or set shuffle=True.\n",
      "  FutureWarning\n"
     ]
    },
    {
     "name": "stdout",
     "output_type": "stream",
     "text": [
      "Accuracy on Training Data ScaledLR: 0.780992 (0.039432)\n",
      "Accuracy of ScaledLR on validation set: 0.7823529411764706\n",
      "\n",
      "\n",
      "Accuracy on Training Data ScaledLda: 0.773529 (0.041123)\n",
      "Accuracy of ScaledLda on validation set: 0.7705882352941177\n",
      "\n",
      "\n",
      "Accuracy on Training Data ScaledKNN: 0.687752 (0.040861)\n",
      "Accuracy of ScaledKNN on validation set: 0.7588235294117647\n",
      "\n",
      "\n"
     ]
    },
    {
     "name": "stderr",
     "output_type": "stream",
     "text": [
      "/home/dan/anaconda3/lib/python3.7/site-packages/sklearn/model_selection/_split.py:297: FutureWarning: Setting a random_state has no effect since shuffle is False. This will raise an error in 0.24. You should leave random_state to its default (None), or set shuffle=True.\n",
      "  FutureWarning\n",
      "/home/dan/anaconda3/lib/python3.7/site-packages/sklearn/model_selection/_split.py:297: FutureWarning: Setting a random_state has no effect since shuffle is False. This will raise an error in 0.24. You should leave random_state to its default (None), or set shuffle=True.\n",
      "  FutureWarning\n"
     ]
    },
    {
     "name": "stdout",
     "output_type": "stream",
     "text": [
      "Accuracy on Training Data ScaledCART: 0.661172 (0.063409)\n",
      "Accuracy of ScaledCART on validation set: 0.6941176470588235\n",
      "\n",
      "\n"
     ]
    },
    {
     "name": "stderr",
     "output_type": "stream",
     "text": [
      "/home/dan/anaconda3/lib/python3.7/site-packages/sklearn/model_selection/_split.py:297: FutureWarning: Setting a random_state has no effect since shuffle is False. This will raise an error in 0.24. You should leave random_state to its default (None), or set shuffle=True.\n",
      "  FutureWarning\n"
     ]
    },
    {
     "name": "stdout",
     "output_type": "stream",
     "text": [
      "Accuracy on Training Data ScaledSVM: 0.747015 (0.040539)\n",
      "Accuracy of ScaledSVM on validation set: 0.7647058823529411\n",
      "\n",
      "\n",
      "Accuracy on Training Data ScaledNB: 0.443635 (0.046624)\n",
      "Accuracy of ScaledNB on validation set: 0.4764705882352941\n",
      "\n",
      "\n"
     ]
    },
    {
     "name": "stderr",
     "output_type": "stream",
     "text": [
      "/home/dan/anaconda3/lib/python3.7/site-packages/sklearn/model_selection/_split.py:297: FutureWarning: Setting a random_state has no effect since shuffle is False. This will raise an error in 0.24. You should leave random_state to its default (None), or set shuffle=True.\n",
      "  FutureWarning\n"
     ]
    }
   ],
   "source": [
    "pipelines = []\n",
    "pipelines.append(('ScaledLR', Pipeline([('Scaler', StandardScaler()),('LR',\n",
    "LogisticRegression())])))\n",
    "pipelines.append(('ScaledLda', Pipeline([('Scaler', StandardScaler()),('LASSO',\n",
    "LinearDiscriminantAnalysis())])))\n",
    "pipelines.append(('ScaledKNN', Pipeline([('Scaler', StandardScaler()),('KNN',\n",
    "KNeighborsClassifier())])))\n",
    "pipelines.append(('ScaledCART', Pipeline([('Scaler', StandardScaler()),('CART',\n",
    "DecisionTreeClassifier())])))\n",
    "pipelines.append(('ScaledSVM', Pipeline([('Scaler', StandardScaler()),('SVR', SVC())])))\n",
    "pipelines.append(('ScaledNB', Pipeline([('Scaler', StandardScaler()),('NB', GaussianNB())])))\n",
    "results = []\n",
    "names = []\n",
    "for name, model in pipelines:\n",
    "    kfold = KFold(n_splits=num_folds, random_state=seed)\n",
    "    cv_results = cross_val_score(model, X_train, Y_train, cv=kfold)# scoring=scoring)\n",
    "    results.append(cv_results)\n",
    "    names.append(name)\n",
    "    msg = \"%s: %f (%f)\" % (name, cv_results.mean(), cv_results.std())\n",
    "    print(\"Accuracy on Training Data\", msg)\n",
    "    model.fit(X_train,Y_train)\n",
    "    predictions = model.predict(X_validation)\n",
    "    print(\"Accuracy of\",name,\"on validation set:\" ,accuracy_score(Y_validation, predictions))\n",
    "    print('\\n')"
   ]
  },
  {
   "cell_type": "code",
   "execution_count": 35,
   "metadata": {},
   "outputs": [
    {
     "data": {
      "image/png": "[encoded data removed]",
      "text/plain": [
       "<Figure size 432x288 with 1 Axes>"
      ]
     },
     "metadata": {
      "needs_background": "light"
     },
     "output_type": "display_data"
    }
   ],
   "source": [
    "fig = pyplot.figure()\n",
    "fig.suptitle('Algorithm Comparison')\n",
    "ax = fig.add_subplot(111)\n",
    "pyplot.boxplot(results)\n",
    "ax.set_xticklabels(names)\n",
    "pyplot.show()"
   ]
  },
  {
   "cell_type": "markdown",
   "metadata": {},
   "source": [
    "#### Feature Selection Using Principal Component Analysis and Select the KBest"
   ]
  },
  {
   "cell_type": "code",
   "execution_count": 36,
   "metadata": {},
   "outputs": [
    {
     "name": "stderr",
     "output_type": "stream",
     "text": [
      "/home/dan/anaconda3/lib/python3.7/site-packages/sklearn/model_selection/_split.py:297: FutureWarning: Setting a random_state has no effect since shuffle is False. This will raise an error in 0.24. You should leave random_state to its default (None), or set shuffle=True.\n",
      "  FutureWarning\n",
      "/home/dan/anaconda3/lib/python3.7/site-packages/sklearn/linear_model/_logistic.py:764: ConvergenceWarning: lbfgs failed to converge (status=1):\n",
      "STOP: TOTAL NO. of ITERATIONS REACHED LIMIT.\n",
      "\n",
      "Increase the number of iterations (max_iter) or scale the data as shown in:\n",
      "    https://scikit-learn.org/stable/modules/preprocessing.html\n",
      "Please also refer to the documentation for alternative solver options:\n",
      "    https://scikit-learn.org/stable/modules/linear_model.html#logistic-regression\n",
      "  extra_warning_msg=_LOGISTIC_SOLVER_CONVERGENCE_MSG)\n",
      "/home/dan/anaconda3/lib/python3.7/site-packages/sklearn/linear_model/_logistic.py:764: ConvergenceWarning: lbfgs failed to converge (status=1):\n",
      "STOP: TOTAL NO. of ITERATIONS REACHED LIMIT.\n",
      "\n",
      "Increase the number of iterations (max_iter) or scale the data as shown in:\n",
      "    https://scikit-learn.org/stable/modules/preprocessing.html\n",
      "Please also refer to the documentation for alternative solver options:\n",
      "    https://scikit-learn.org/stable/modules/linear_model.html#logistic-regression\n",
      "  extra_warning_msg=_LOGISTIC_SOLVER_CONVERGENCE_MSG)\n",
      "/home/dan/anaconda3/lib/python3.7/site-packages/sklearn/linear_model/_logistic.py:764: ConvergenceWarning: lbfgs failed to converge (status=1):\n",
      "STOP: TOTAL NO. of ITERATIONS REACHED LIMIT.\n",
      "\n",
      "Increase the number of iterations (max_iter) or scale the data as shown in:\n",
      "    https://scikit-learn.org/stable/modules/preprocessing.html\n",
      "Please also refer to the documentation for alternative solver options:\n",
      "    https://scikit-learn.org/stable/modules/linear_model.html#logistic-regression\n",
      "  extra_warning_msg=_LOGISTIC_SOLVER_CONVERGENCE_MSG)\n",
      "/home/dan/anaconda3/lib/python3.7/site-packages/sklearn/linear_model/_logistic.py:764: ConvergenceWarning: lbfgs failed to converge (status=1):\n",
      "STOP: TOTAL NO. of ITERATIONS REACHED LIMIT.\n",
      "\n",
      "Increase the number of iterations (max_iter) or scale the data as shown in:\n",
      "    https://scikit-learn.org/stable/modules/preprocessing.html\n",
      "Please also refer to the documentation for alternative solver options:\n",
      "    https://scikit-learn.org/stable/modules/linear_model.html#logistic-regression\n",
      "  extra_warning_msg=_LOGISTIC_SOLVER_CONVERGENCE_MSG)\n",
      "/home/dan/anaconda3/lib/python3.7/site-packages/sklearn/linear_model/_logistic.py:764: ConvergenceWarning: lbfgs failed to converge (status=1):\n",
      "STOP: TOTAL NO. of ITERATIONS REACHED LIMIT.\n",
      "\n",
      "Increase the number of iterations (max_iter) or scale the data as shown in:\n",
      "    https://scikit-learn.org/stable/modules/preprocessing.html\n",
      "Please also refer to the documentation for alternative solver options:\n",
      "    https://scikit-learn.org/stable/modules/linear_model.html#logistic-regression\n",
      "  extra_warning_msg=_LOGISTIC_SOLVER_CONVERGENCE_MSG)\n",
      "/home/dan/anaconda3/lib/python3.7/site-packages/sklearn/linear_model/_logistic.py:764: ConvergenceWarning: lbfgs failed to converge (status=1):\n",
      "STOP: TOTAL NO. of ITERATIONS REACHED LIMIT.\n",
      "\n",
      "Increase the number of iterations (max_iter) or scale the data as shown in:\n",
      "    https://scikit-learn.org/stable/modules/preprocessing.html\n",
      "Please also refer to the documentation for alternative solver options:\n",
      "    https://scikit-learn.org/stable/modules/linear_model.html#logistic-regression\n",
      "  extra_warning_msg=_LOGISTIC_SOLVER_CONVERGENCE_MSG)\n",
      "/home/dan/anaconda3/lib/python3.7/site-packages/sklearn/linear_model/_logistic.py:764: ConvergenceWarning: lbfgs failed to converge (status=1):\n",
      "STOP: TOTAL NO. of ITERATIONS REACHED LIMIT.\n",
      "\n",
      "Increase the number of iterations (max_iter) or scale the data as shown in:\n",
      "    https://scikit-learn.org/stable/modules/preprocessing.html\n",
      "Please also refer to the documentation for alternative solver options:\n",
      "    https://scikit-learn.org/stable/modules/linear_model.html#logistic-regression\n",
      "  extra_warning_msg=_LOGISTIC_SOLVER_CONVERGENCE_MSG)\n",
      "/home/dan/anaconda3/lib/python3.7/site-packages/sklearn/linear_model/_logistic.py:764: ConvergenceWarning: lbfgs failed to converge (status=1):\n",
      "STOP: TOTAL NO. of ITERATIONS REACHED LIMIT.\n",
      "\n",
      "Increase the number of iterations (max_iter) or scale the data as shown in:\n",
      "    https://scikit-learn.org/stable/modules/preprocessing.html\n",
      "Please also refer to the documentation for alternative solver options:\n",
      "    https://scikit-learn.org/stable/modules/linear_model.html#logistic-regression\n",
      "  extra_warning_msg=_LOGISTIC_SOLVER_CONVERGENCE_MSG)\n"
     ]
    },
    {
     "name": "stdout",
     "output_type": "stream",
     "text": [
      "0.676470588235294\n"
     ]
    },
    {
     "name": "stderr",
     "output_type": "stream",
     "text": [
      "/home/dan/anaconda3/lib/python3.7/site-packages/sklearn/linear_model/_logistic.py:764: ConvergenceWarning: lbfgs failed to converge (status=1):\n",
      "STOP: TOTAL NO. of ITERATIONS REACHED LIMIT.\n",
      "\n",
      "Increase the number of iterations (max_iter) or scale the data as shown in:\n",
      "    https://scikit-learn.org/stable/modules/preprocessing.html\n",
      "Please also refer to the documentation for alternative solver options:\n",
      "    https://scikit-learn.org/stable/modules/linear_model.html#logistic-regression\n",
      "  extra_warning_msg=_LOGISTIC_SOLVER_CONVERGENCE_MSG)\n",
      "/home/dan/anaconda3/lib/python3.7/site-packages/sklearn/linear_model/_logistic.py:764: ConvergenceWarning: lbfgs failed to converge (status=1):\n",
      "STOP: TOTAL NO. of ITERATIONS REACHED LIMIT.\n",
      "\n",
      "Increase the number of iterations (max_iter) or scale the data as shown in:\n",
      "    https://scikit-learn.org/stable/modules/preprocessing.html\n",
      "Please also refer to the documentation for alternative solver options:\n",
      "    https://scikit-learn.org/stable/modules/linear_model.html#logistic-regression\n",
      "  extra_warning_msg=_LOGISTIC_SOLVER_CONVERGENCE_MSG)\n"
     ]
    }
   ],
   "source": [
    "features = []\n",
    "features.append(('pca', PCA(n_components=13)))\n",
    "features.append(('select_best', SelectKBest(k=10)))\n",
    "feature_union = FeatureUnion(features)\n",
    "# create pipeline\n",
    "estimators = []\n",
    "estimators.append(('feature_union', feature_union))\n",
    "estimators.append(('logistic', LogisticRegression()))\n",
    "model = Pipeline(estimators)\n",
    "\n",
    "# evaluate pipeline\n",
    "kfold = KFold(n_splits=10, random_state=7)\n",
    "results = cross_val_score(model, X_validation, Y_validation, cv=kfold)\n",
    "print(results.mean())"
   ]
  },
  {
   "cell_type": "markdown",
   "metadata": {},
   "source": [
    "#### Now lets try Ensemble methods to see if we can improve results"
   ]
  },
  {
   "cell_type": "code",
   "execution_count": 37,
   "metadata": {},
   "outputs": [
    {
     "name": "stderr",
     "output_type": "stream",
     "text": [
      "/home/dan/anaconda3/lib/python3.7/site-packages/sklearn/linear_model/_logistic.py:764: ConvergenceWarning: lbfgs failed to converge (status=1):\n",
      "STOP: TOTAL NO. of ITERATIONS REACHED LIMIT.\n",
      "\n",
      "Increase the number of iterations (max_iter) or scale the data as shown in:\n",
      "    https://scikit-learn.org/stable/modules/preprocessing.html\n",
      "Please also refer to the documentation for alternative solver options:\n",
      "    https://scikit-learn.org/stable/modules/linear_model.html#logistic-regression\n",
      "  extra_warning_msg=_LOGISTIC_SOLVER_CONVERGENCE_MSG)\n",
      "/home/dan/anaconda3/lib/python3.7/site-packages/sklearn/linear_model/_logistic.py:764: ConvergenceWarning: lbfgs failed to converge (status=1):\n",
      "STOP: TOTAL NO. of ITERATIONS REACHED LIMIT.\n",
      "\n",
      "Increase the number of iterations (max_iter) or scale the data as shown in:\n",
      "    https://scikit-learn.org/stable/modules/preprocessing.html\n",
      "Please also refer to the documentation for alternative solver options:\n",
      "    https://scikit-learn.org/stable/modules/linear_model.html#logistic-regression\n",
      "  extra_warning_msg=_LOGISTIC_SOLVER_CONVERGENCE_MSG)\n",
      "/home/dan/anaconda3/lib/python3.7/site-packages/sklearn/linear_model/_logistic.py:764: ConvergenceWarning: lbfgs failed to converge (status=1):\n",
      "STOP: TOTAL NO. of ITERATIONS REACHED LIMIT.\n",
      "\n",
      "Increase the number of iterations (max_iter) or scale the data as shown in:\n",
      "    https://scikit-learn.org/stable/modules/preprocessing.html\n",
      "Please also refer to the documentation for alternative solver options:\n",
      "    https://scikit-learn.org/stable/modules/linear_model.html#logistic-regression\n",
      "  extra_warning_msg=_LOGISTIC_SOLVER_CONVERGENCE_MSG)\n",
      "/home/dan/anaconda3/lib/python3.7/site-packages/sklearn/linear_model/_logistic.py:764: ConvergenceWarning: lbfgs failed to converge (status=1):\n",
      "STOP: TOTAL NO. of ITERATIONS REACHED LIMIT.\n",
      "\n",
      "Increase the number of iterations (max_iter) or scale the data as shown in:\n",
      "    https://scikit-learn.org/stable/modules/preprocessing.html\n",
      "Please also refer to the documentation for alternative solver options:\n",
      "    https://scikit-learn.org/stable/modules/linear_model.html#logistic-regression\n",
      "  extra_warning_msg=_LOGISTIC_SOLVER_CONVERGENCE_MSG)\n",
      "/home/dan/anaconda3/lib/python3.7/site-packages/sklearn/linear_model/_logistic.py:764: ConvergenceWarning: lbfgs failed to converge (status=1):\n",
      "STOP: TOTAL NO. of ITERATIONS REACHED LIMIT.\n",
      "\n",
      "Increase the number of iterations (max_iter) or scale the data as shown in:\n",
      "    https://scikit-learn.org/stable/modules/preprocessing.html\n",
      "Please also refer to the documentation for alternative solver options:\n",
      "    https://scikit-learn.org/stable/modules/linear_model.html#logistic-regression\n",
      "  extra_warning_msg=_LOGISTIC_SOLVER_CONVERGENCE_MSG)\n",
      "/home/dan/anaconda3/lib/python3.7/site-packages/sklearn/linear_model/_logistic.py:764: ConvergenceWarning: lbfgs failed to converge (status=1):\n",
      "STOP: TOTAL NO. of ITERATIONS REACHED LIMIT.\n",
      "\n",
      "Increase the number of iterations (max_iter) or scale the data as shown in:\n",
      "    https://scikit-learn.org/stable/modules/preprocessing.html\n",
      "Please also refer to the documentation for alternative solver options:\n",
      "    https://scikit-learn.org/stable/modules/linear_model.html#logistic-regression\n",
      "  extra_warning_msg=_LOGISTIC_SOLVER_CONVERGENCE_MSG)\n",
      "/home/dan/anaconda3/lib/python3.7/site-packages/sklearn/linear_model/_logistic.py:764: ConvergenceWarning: lbfgs failed to converge (status=1):\n",
      "STOP: TOTAL NO. of ITERATIONS REACHED LIMIT.\n",
      "\n",
      "Increase the number of iterations (max_iter) or scale the data as shown in:\n",
      "    https://scikit-learn.org/stable/modules/preprocessing.html\n",
      "Please also refer to the documentation for alternative solver options:\n",
      "    https://scikit-learn.org/stable/modules/linear_model.html#logistic-regression\n",
      "  extra_warning_msg=_LOGISTIC_SOLVER_CONVERGENCE_MSG)\n",
      "/home/dan/anaconda3/lib/python3.7/site-packages/sklearn/linear_model/_logistic.py:764: ConvergenceWarning: lbfgs failed to converge (status=1):\n",
      "STOP: TOTAL NO. of ITERATIONS REACHED LIMIT.\n",
      "\n",
      "Increase the number of iterations (max_iter) or scale the data as shown in:\n",
      "    https://scikit-learn.org/stable/modules/preprocessing.html\n",
      "Please also refer to the documentation for alternative solver options:\n",
      "    https://scikit-learn.org/stable/modules/linear_model.html#logistic-regression\n",
      "  extra_warning_msg=_LOGISTIC_SOLVER_CONVERGENCE_MSG)\n"
     ]
    },
    {
     "name": "stdout",
     "output_type": "stream",
     "text": [
      "0.706890756302521\n"
     ]
    },
    {
     "name": "stderr",
     "output_type": "stream",
     "text": [
      "/home/dan/anaconda3/lib/python3.7/site-packages/sklearn/linear_model/_logistic.py:764: ConvergenceWarning: lbfgs failed to converge (status=1):\n",
      "STOP: TOTAL NO. of ITERATIONS REACHED LIMIT.\n",
      "\n",
      "Increase the number of iterations (max_iter) or scale the data as shown in:\n",
      "    https://scikit-learn.org/stable/modules/preprocessing.html\n",
      "Please also refer to the documentation for alternative solver options:\n",
      "    https://scikit-learn.org/stable/modules/linear_model.html#logistic-regression\n",
      "  extra_warning_msg=_LOGISTIC_SOLVER_CONVERGENCE_MSG)\n",
      "/home/dan/anaconda3/lib/python3.7/site-packages/sklearn/linear_model/_logistic.py:764: ConvergenceWarning: lbfgs failed to converge (status=1):\n",
      "STOP: TOTAL NO. of ITERATIONS REACHED LIMIT.\n",
      "\n",
      "Increase the number of iterations (max_iter) or scale the data as shown in:\n",
      "    https://scikit-learn.org/stable/modules/preprocessing.html\n",
      "Please also refer to the documentation for alternative solver options:\n",
      "    https://scikit-learn.org/stable/modules/linear_model.html#logistic-regression\n",
      "  extra_warning_msg=_LOGISTIC_SOLVER_CONVERGENCE_MSG)\n"
     ]
    }
   ],
   "source": [
    "# Various different parameters were tried but none seem to outperform the original logistic regression\n",
    "estimators = []\n",
    "model1 = LogisticRegression()\n",
    "estimators.append(('logistic', model1))\n",
    "model2 = DecisionTreeClassifier()\n",
    "estimators.append(('cart', model2))\n",
    "model3 = KNeighborsClassifier()\n",
    "estimators.append(('Knn', model3))\n",
    "\n",
    "# create the ensemble model\n",
    "ensemble = VotingClassifier(estimators)\n",
    "results = cross_val_score(ensemble, X, Y, cv=kfold)\n",
    "print(results.mean())"
   ]
  },
  {
   "cell_type": "code",
   "execution_count": 38,
   "metadata": {},
   "outputs": [
    {
     "name": "stderr",
     "output_type": "stream",
     "text": [
      "/home/dan/anaconda3/lib/python3.7/site-packages/sklearn/model_selection/_split.py:297: FutureWarning: Setting a random_state has no effect since shuffle is False. This will raise an error in 0.24. You should leave random_state to its default (None), or set shuffle=True.\n",
      "  FutureWarning\n"
     ]
    },
    {
     "name": "stdout",
     "output_type": "stream",
     "text": [
      "0.6004037591367908\n"
     ]
    }
   ],
   "source": [
    "num_trees = 15\n",
    "seed=7\n",
    "kfold = KFold(n_splits=5, random_state=seed)\n",
    "model = AdaBoostClassifier(n_estimators=num_trees, random_state=seed)\n",
    "results = cross_val_score(model, X, Y, cv=kfold)\n",
    "print(results.mean())"
   ]
  },
  {
   "cell_type": "code",
   "execution_count": 39,
   "metadata": {},
   "outputs": [
    {
     "name": "stderr",
     "output_type": "stream",
     "text": [
      "/home/dan/anaconda3/lib/python3.7/site-packages/sklearn/model_selection/_split.py:297: FutureWarning: Setting a random_state has no effect since shuffle is False. This will raise an error in 0.24. You should leave random_state to its default (None), or set shuffle=True.\n",
      "  FutureWarning\n"
     ]
    },
    {
     "name": "stdout",
     "output_type": "stream",
     "text": [
      "0.7528151260504201\n"
     ]
    }
   ],
   "source": [
    "from sklearn.ensemble import ExtraTreesClassifier\n",
    "num_trees = 50\n",
    "max_features = 7\n",
    "kfold = KFold(n_splits=10, random_state=7)\n",
    "model = ExtraTreesClassifier(n_estimators=num_trees, max_features=max_features)\n",
    "results = cross_val_score(model, X, Y, cv=kfold)\n",
    "print(results.mean())"
   ]
  },
  {
   "cell_type": "code",
   "execution_count": 40,
   "metadata": {},
   "outputs": [
    {
     "name": "stderr",
     "output_type": "stream",
     "text": [
      "/home/dan/anaconda3/lib/python3.7/site-packages/sklearn/model_selection/_split.py:297: FutureWarning: Setting a random_state has no effect since shuffle is False. This will raise an error in 0.24. You should leave random_state to its default (None), or set shuffle=True.\n",
      "  FutureWarning\n"
     ]
    },
    {
     "name": "stdout",
     "output_type": "stream",
     "text": [
      "0.770657848938392\n"
     ]
    }
   ],
   "source": [
    "from sklearn.ensemble import GradientBoostingClassifier\n",
    "seed = 7\n",
    "num_trees = 114\n",
    "kfold = KFold(n_splits=5, random_state=seed)\n",
    "model = GradientBoostingClassifier(n_estimators=num_trees, random_state=seed)\n",
    "results = cross_val_score(model, X, Y, cv=kfold)\n",
    "print(results.mean())"
   ]
  },
  {
   "cell_type": "code",
   "execution_count": null,
   "metadata": {},
   "outputs": [],
   "source": []
  }
 ],
 "metadata": {
  "kernelspec": {
   "display_name": "Python 3",
   "language": "python",
   "name": "python3"
  },
  "language_info": {
   "codemirror_mode": {
    "name": "ipython",
    "version": 3
   },
   "file_extension": ".py",
   "mimetype": "text/x-python",
   "name": "python",
   "nbconvert_exporter": "python",
   "pygments_lexer": "ipython3",
   "version": "3.7.7"
  }
 },
 "nbformat": 4,
 "nbformat_minor": 4
}
